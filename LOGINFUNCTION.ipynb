{
 "cells": [
  {
   "cell_type": "code",
   "execution_count": null,
   "id": "c5a092ed",
   "metadata": {},
   "outputs": [],
   "source": [
    "def login():\n",
    "    Un=input(\"enter user name\")\n",
    "    Pd=input(\"enter the password\")\n",
    "    for u in Users:\n",
    "        if Un==u[0]:\n",
    "            if Pd==u[1]:\n",
    "                print(\"Login sucessful\")\n",
    "            else:\n",
    "                print(\"Invalid credentials\")"
   ]
  },
  {
   "cell_type": "code",
   "execution_count": null,
   "id": "6ab64300",
   "metadata": {},
   "outputs": [],
   "source": [
    "Users=[['User1','Pass1'],['User2','Pass2'],['User3','Pass3'],['User4','Pass4']]"
   ]
  },
  {
   "cell_type": "code",
   "execution_count": null,
   "id": "e8d9695b",
   "metadata": {},
   "outputs": [],
   "source": [
    "username = login()"
   ]
  },
  {
   "cell_type": "code",
   "execution_count": null,
   "id": "bf567a4e",
   "metadata": {},
   "outputs": [],
   "source": []
  }
 ],
 "metadata": {
  "kernelspec": {
   "display_name": "Python 3 (ipykernel)",
   "language": "python",
   "name": "python3"
  },
  "language_info": {
   "codemirror_mode": {
    "name": "ipython",
    "version": 3
   },
   "file_extension": ".py",
   "mimetype": "text/x-python",
   "name": "python",
   "nbconvert_exporter": "python",
   "pygments_lexer": "ipython3",
   "version": "3.9.7"
  }
 },
 "nbformat": 4,
 "nbformat_minor": 5
}
