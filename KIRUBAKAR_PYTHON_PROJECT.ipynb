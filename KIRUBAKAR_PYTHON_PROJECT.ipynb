{
  "nbformat": 4,
  "nbformat_minor": 0,
  "metadata": {
    "colab": {
      "provenance": []
    },
    "kernelspec": {
      "name": "python3",
      "display_name": "Python 3"
    },
    "language_info": {
      "name": "python"
    }
  },
  "cells": [
    {
      "cell_type": "markdown",
      "source": [
        "# EXPLORATORY DATA ANALYSIS "
      ],
      "metadata": {
        "id": "zt0Ej0_NA3_Q"
      }
    },
    {
      "cell_type": "code",
      "source": [
        "import numpy as np\n",
        "import pandas as pd\n",
        "import matplotlib.pyplot as plt\n",
        "import seaborn as sns"
      ],
      "metadata": {
        "id": "eFgP457SBrvu"
      },
      "execution_count": 9,
      "outputs": []
    },
    {
      "cell_type": "code",
      "source": [
        "df = pd.read_csv('phyton.csv')"
      ],
      "metadata": {
        "id": "CpbvBWDiCHFu"
      },
      "execution_count": 10,
      "outputs": []
    },
    {
      "cell_type": "code",
      "source": [
        "df.info()"
      ],
      "metadata": {
        "id": "JViLauHKDd1E",
        "colab": {
          "base_uri": "https://localhost:8080/"
        },
        "outputId": "2b0966fa-87ae-45db-c579-6117a098075a"
      },
      "execution_count": 11,
      "outputs": [
        {
          "output_type": "stream",
          "name": "stdout",
          "text": [
            "<class 'pandas.core.frame.DataFrame'>\n",
            "RangeIndex: 2340 entries, 0 to 2339\n",
            "Data columns (total 19 columns):\n",
            " #   Column                 Non-Null Count  Dtype  \n",
            "---  ------                 --------------  -----  \n",
            " 0   Video_id               2340 non-null   object \n",
            " 1   category_id            2334 non-null   object \n",
            " 2   channel_title          2337 non-null   object \n",
            " 3   subscriber             2320 non-null   float64\n",
            " 4   title                  2337 non-null   object \n",
            " 5   tags                   2245 non-null   object \n",
            " 6   description            2299 non-null   object \n",
            " 7   Trend_day_count        2339 non-null   float64\n",
            " 8   Tag_count              2339 non-null   object \n",
            " 9   Trend_tag_count        2339 non-null   object \n",
            " 10  comment_count          2340 non-null   object \n",
            " 11  comment_disabled       2340 non-null   object \n",
            " 12  like dislike disabled  2340 non-null   object \n",
            " 13  likes                  2340 non-null   object \n",
            " 14  dislike                2340 non-null   object \n",
            " 15  tag appered in title   2338 non-null   object \n",
            " 16  views                  2339 non-null   float64\n",
            " 17  Unnamed: 17            1 non-null      float64\n",
            " 18  Unnamed: 18            1 non-null      object \n",
            "dtypes: float64(4), object(15)\n",
            "memory usage: 347.5+ KB\n"
          ]
        }
      ]
    },
    {
      "cell_type": "markdown",
      "source": [
        "**DELETING THE COLUMNS WITH MORE NUMBER OF NULL VALUES**"
      ],
      "metadata": {
        "id": "ZlUJjVQdzyGL"
      }
    },
    {
      "cell_type": "code",
      "source": [
        "df2 = df.drop(['Unnamed: 17', 'Unnamed: 18'], axis =1)"
      ],
      "metadata": {
        "id": "FolpEzoMTqcw"
      },
      "execution_count": 12,
      "outputs": []
    },
    {
      "cell_type": "code",
      "source": [
        "df2.info()"
      ],
      "metadata": {
        "id": "7pHRYY8aRp_-",
        "colab": {
          "base_uri": "https://localhost:8080/"
        },
        "outputId": "b32c6e52-3c03-446b-cec7-61d6074151d8"
      },
      "execution_count": 13,
      "outputs": [
        {
          "output_type": "stream",
          "name": "stdout",
          "text": [
            "<class 'pandas.core.frame.DataFrame'>\n",
            "RangeIndex: 2340 entries, 0 to 2339\n",
            "Data columns (total 17 columns):\n",
            " #   Column                 Non-Null Count  Dtype  \n",
            "---  ------                 --------------  -----  \n",
            " 0   Video_id               2340 non-null   object \n",
            " 1   category_id            2334 non-null   object \n",
            " 2   channel_title          2337 non-null   object \n",
            " 3   subscriber             2320 non-null   float64\n",
            " 4   title                  2337 non-null   object \n",
            " 5   tags                   2245 non-null   object \n",
            " 6   description            2299 non-null   object \n",
            " 7   Trend_day_count        2339 non-null   float64\n",
            " 8   Tag_count              2339 non-null   object \n",
            " 9   Trend_tag_count        2339 non-null   object \n",
            " 10  comment_count          2340 non-null   object \n",
            " 11  comment_disabled       2340 non-null   object \n",
            " 12  like dislike disabled  2340 non-null   object \n",
            " 13  likes                  2340 non-null   object \n",
            " 14  dislike                2340 non-null   object \n",
            " 15  tag appered in title   2338 non-null   object \n",
            " 16  views                  2339 non-null   float64\n",
            "dtypes: float64(3), object(14)\n",
            "memory usage: 310.9+ KB\n"
          ]
        }
      ]
    },
    {
      "cell_type": "markdown",
      "source": [
        "**STATISTICAL DESCRIPTION OF THE DATA**"
      ],
      "metadata": {
        "id": "3h_OrOVk0K-8"
      }
    },
    {
      "cell_type": "code",
      "source": [
        "df2.describe()"
      ],
      "metadata": {
        "id": "N2-dTKK_j5He",
        "colab": {
          "base_uri": "https://localhost:8080/",
          "height": 300
        },
        "outputId": "6720020c-7e41-4230-da26-8466d764db77"
      },
      "execution_count": 14,
      "outputs": [
        {
          "output_type": "execute_result",
          "data": {
            "text/plain": [
              "         subscriber  Trend_day_count         views\n",
              "count  2.320000e+03      2339.000000  2.339000e+03\n",
              "mean   4.151990e+06         8.520735  1.538142e+06\n",
              "std    3.340717e+07        91.815008  2.058206e+07\n",
              "min    0.000000e+00         0.000000  1.000000e+00\n",
              "25%    2.518812e+05         4.000000  4.371495e+05\n",
              "50%    1.325936e+06         7.000000  7.197190e+05\n",
              "75%    3.887713e+06        10.000000  1.245480e+06\n",
              "max    1.576229e+09      4444.000000  9.898735e+08"
            ],
            "text/html": [
              "\n",
              "  <div id=\"df-a8d61198-271b-4a25-b7d8-6bdd93ac48a3\">\n",
              "    <div class=\"colab-df-container\">\n",
              "      <div>\n",
              "<style scoped>\n",
              "    .dataframe tbody tr th:only-of-type {\n",
              "        vertical-align: middle;\n",
              "    }\n",
              "\n",
              "    .dataframe tbody tr th {\n",
              "        vertical-align: top;\n",
              "    }\n",
              "\n",
              "    .dataframe thead th {\n",
              "        text-align: right;\n",
              "    }\n",
              "</style>\n",
              "<table border=\"1\" class=\"dataframe\">\n",
              "  <thead>\n",
              "    <tr style=\"text-align: right;\">\n",
              "      <th></th>\n",
              "      <th>subscriber</th>\n",
              "      <th>Trend_day_count</th>\n",
              "      <th>views</th>\n",
              "    </tr>\n",
              "  </thead>\n",
              "  <tbody>\n",
              "    <tr>\n",
              "      <th>count</th>\n",
              "      <td>2.320000e+03</td>\n",
              "      <td>2339.000000</td>\n",
              "      <td>2.339000e+03</td>\n",
              "    </tr>\n",
              "    <tr>\n",
              "      <th>mean</th>\n",
              "      <td>4.151990e+06</td>\n",
              "      <td>8.520735</td>\n",
              "      <td>1.538142e+06</td>\n",
              "    </tr>\n",
              "    <tr>\n",
              "      <th>std</th>\n",
              "      <td>3.340717e+07</td>\n",
              "      <td>91.815008</td>\n",
              "      <td>2.058206e+07</td>\n",
              "    </tr>\n",
              "    <tr>\n",
              "      <th>min</th>\n",
              "      <td>0.000000e+00</td>\n",
              "      <td>0.000000</td>\n",
              "      <td>1.000000e+00</td>\n",
              "    </tr>\n",
              "    <tr>\n",
              "      <th>25%</th>\n",
              "      <td>2.518812e+05</td>\n",
              "      <td>4.000000</td>\n",
              "      <td>4.371495e+05</td>\n",
              "    </tr>\n",
              "    <tr>\n",
              "      <th>50%</th>\n",
              "      <td>1.325936e+06</td>\n",
              "      <td>7.000000</td>\n",
              "      <td>7.197190e+05</td>\n",
              "    </tr>\n",
              "    <tr>\n",
              "      <th>75%</th>\n",
              "      <td>3.887713e+06</td>\n",
              "      <td>10.000000</td>\n",
              "      <td>1.245480e+06</td>\n",
              "    </tr>\n",
              "    <tr>\n",
              "      <th>max</th>\n",
              "      <td>1.576229e+09</td>\n",
              "      <td>4444.000000</td>\n",
              "      <td>9.898735e+08</td>\n",
              "    </tr>\n",
              "  </tbody>\n",
              "</table>\n",
              "</div>\n",
              "      <button class=\"colab-df-convert\" onclick=\"convertToInteractive('df-a8d61198-271b-4a25-b7d8-6bdd93ac48a3')\"\n",
              "              title=\"Convert this dataframe to an interactive table.\"\n",
              "              style=\"display:none;\">\n",
              "        \n",
              "  <svg xmlns=\"http://www.w3.org/2000/svg\" height=\"24px\"viewBox=\"0 0 24 24\"\n",
              "       width=\"24px\">\n",
              "    <path d=\"M0 0h24v24H0V0z\" fill=\"none\"/>\n",
              "    <path d=\"M18.56 5.44l.94 2.06.94-2.06 2.06-.94-2.06-.94-.94-2.06-.94 2.06-2.06.94zm-11 1L8.5 8.5l.94-2.06 2.06-.94-2.06-.94L8.5 2.5l-.94 2.06-2.06.94zm10 10l.94 2.06.94-2.06 2.06-.94-2.06-.94-.94-2.06-.94 2.06-2.06.94z\"/><path d=\"M17.41 7.96l-1.37-1.37c-.4-.4-.92-.59-1.43-.59-.52 0-1.04.2-1.43.59L10.3 9.45l-7.72 7.72c-.78.78-.78 2.05 0 2.83L4 21.41c.39.39.9.59 1.41.59.51 0 1.02-.2 1.41-.59l7.78-7.78 2.81-2.81c.8-.78.8-2.07 0-2.86zM5.41 20L4 18.59l7.72-7.72 1.47 1.35L5.41 20z\"/>\n",
              "  </svg>\n",
              "      </button>\n",
              "      \n",
              "  <style>\n",
              "    .colab-df-container {\n",
              "      display:flex;\n",
              "      flex-wrap:wrap;\n",
              "      gap: 12px;\n",
              "    }\n",
              "\n",
              "    .colab-df-convert {\n",
              "      background-color: #E8F0FE;\n",
              "      border: none;\n",
              "      border-radius: 50%;\n",
              "      cursor: pointer;\n",
              "      display: none;\n",
              "      fill: #1967D2;\n",
              "      height: 32px;\n",
              "      padding: 0 0 0 0;\n",
              "      width: 32px;\n",
              "    }\n",
              "\n",
              "    .colab-df-convert:hover {\n",
              "      background-color: #E2EBFA;\n",
              "      box-shadow: 0px 1px 2px rgba(60, 64, 67, 0.3), 0px 1px 3px 1px rgba(60, 64, 67, 0.15);\n",
              "      fill: #174EA6;\n",
              "    }\n",
              "\n",
              "    [theme=dark] .colab-df-convert {\n",
              "      background-color: #3B4455;\n",
              "      fill: #D2E3FC;\n",
              "    }\n",
              "\n",
              "    [theme=dark] .colab-df-convert:hover {\n",
              "      background-color: #434B5C;\n",
              "      box-shadow: 0px 1px 3px 1px rgba(0, 0, 0, 0.15);\n",
              "      filter: drop-shadow(0px 1px 2px rgba(0, 0, 0, 0.3));\n",
              "      fill: #FFFFFF;\n",
              "    }\n",
              "  </style>\n",
              "\n",
              "      <script>\n",
              "        const buttonEl =\n",
              "          document.querySelector('#df-a8d61198-271b-4a25-b7d8-6bdd93ac48a3 button.colab-df-convert');\n",
              "        buttonEl.style.display =\n",
              "          google.colab.kernel.accessAllowed ? 'block' : 'none';\n",
              "\n",
              "        async function convertToInteractive(key) {\n",
              "          const element = document.querySelector('#df-a8d61198-271b-4a25-b7d8-6bdd93ac48a3');\n",
              "          const dataTable =\n",
              "            await google.colab.kernel.invokeFunction('convertToInteractive',\n",
              "                                                     [key], {});\n",
              "          if (!dataTable) return;\n",
              "\n",
              "          const docLinkHtml = 'Like what you see? Visit the ' +\n",
              "            '<a target=\"_blank\" href=https://colab.research.google.com/notebooks/data_table.ipynb>data table notebook</a>'\n",
              "            + ' to learn more about interactive tables.';\n",
              "          element.innerHTML = '';\n",
              "          dataTable['output_type'] = 'display_data';\n",
              "          await google.colab.output.renderOutput(dataTable, element);\n",
              "          const docLink = document.createElement('div');\n",
              "          docLink.innerHTML = docLinkHtml;\n",
              "          element.appendChild(docLink);\n",
              "        }\n",
              "      </script>\n",
              "    </div>\n",
              "  </div>\n",
              "  "
            ]
          },
          "metadata": {},
          "execution_count": 14
        }
      ]
    },
    {
      "cell_type": "markdown",
      "source": [
        "**FILLING THE ROWS WITH THE NULL VALUES**"
      ],
      "metadata": {
        "id": "AKTCS-yL0QEt"
      }
    },
    {
      "cell_type": "code",
      "source": [
        "df2.fillna(0)"
      ],
      "metadata": {
        "id": "bAYBhkUZkYiR",
        "colab": {
          "base_uri": "https://localhost:8080/",
          "height": 1000
        },
        "outputId": "c7c6f9d8-5a74-4050-c6e9-fd4036c777ca"
      },
      "execution_count": 15,
      "outputs": [
        {
          "output_type": "execute_result",
          "data": {
            "text/plain": [
              "        Video_id category_id          channel_title  subscriber  \\\n",
              "0      HDR9SQc79          22           CaseyNeistat   9086142.0   \n",
              "1     KNH52UF?48          24        LastWeekTonight   5937292.0   \n",
              "2     QTW28IRG36          23           Rudy Mancuso   4191209.0   \n",
              "3     MGL76WI]26          24  Good Mythical Morning  13186408.0   \n",
              "4     TWP93KXT70          24               nigahiga  20563106.0   \n",
              "...          ...         ...                    ...         ...   \n",
              "2335  UFM79JA=97          24               Billions     26248.0   \n",
              "2336  FMU22HOJ55          17                   ESPN   2702088.0   \n",
              "2337  FLP46QR>14          25                    Vox   3808198.0   \n",
              "2338  YYZ82HE\\69          20                 DanTDM  18185017.0   \n",
              "2339  NEJ22YCS36          24              Daz Games   1891854.0   \n",
              "\n",
              "                                                  title  \\\n",
              "0                    WE WANT TO TALK ABOUT OUR MARRIAGE   \n",
              "1     The Trump Presidency: Last Week Tonight with J...   \n",
              "2     Racist Superman | Rudy Mancuso, King Bach & Le...   \n",
              "3                      Nickelback Lyrics: Real or Fake?   \n",
              "4                              I Dare You: GOING BALD!?   \n",
              "...                                                 ...   \n",
              "2335  Billions Season 3 (2018) | Official Trailer | ...   \n",
              "2336  LaVar Ball gets real during interview with ESP...   \n",
              "2337    Iran's massive protests, explained in 4 minutes   \n",
              "2338                  YOUTUBE SENT ME A MYSTERY GIFT!!!   \n",
              "2339                  Daz Watches Worst Kickstarters #9   \n",
              "\n",
              "                                                   tags  \\\n",
              "0                                       SHANtell martin   \n",
              "1     last week tonight trump presidency|last week t...   \n",
              "2     racist superman|rudy|mancuso|king|bach|racist|...   \n",
              "3     rhett and link|gmm|good mythical morning|rhett...   \n",
              "4     ryan|higa|higatv|nigahiga|i dare you|idy|rhpc|...   \n",
              "...                                                 ...   \n",
              "2335  Trader|US Attorney|Susan Misner|Malin Akerman|...   \n",
              "2336  lavar|ball|gets|real|during|interview|with|esp...   \n",
              "2337  vox.com|vox|explain|iran|iran protests|iranian...   \n",
              "2338  dantdm|dantdm youtube|youtube dantdm|dantdm re...   \n",
              "2339  Daz|games|worst kickstarters|daz watches|daz g...   \n",
              "\n",
              "                                            description  Trend_day_count  \\\n",
              "0     SHANTELL'S CHANNEL - https://www.youtube.com/s...              6.0   \n",
              "1     One year after the presidential election, John...              1.0   \n",
              "2     WATCH MY PREVIOUS VIDEO ▶ \\n\\nSUBSCRIBE ► http...             10.0   \n",
              "3     Today we find out if Link is a Nickelback amat...             12.0   \n",
              "4     I know it's been a while since we did this sho...             11.0   \n",
              "...                                                 ...              ...   \n",
              "2335  Season three of Billions finds Chuck Rhoades (...              8.0   \n",
              "2336  LaVar Ball gets real during interview with ESP...              5.0   \n",
              "2337  How the price of eggs sparked an uprising in I...              1.0   \n",
              "2338  ► Subscribe and join TeamTDM! :: http://bit.ly...              2.0   \n",
              "2339  Back again with kickstarters! \\n\\nHead over to...             11.0   \n",
              "\n",
              "     Tag_count Trend_tag_count comment_count comment_disabled  \\\n",
              "0           21               6                          FALSE   \n",
              "1           23               1        116266             TRUE   \n",
              "2           22               3        257850             TRUE   \n",
              "3           17               5        263939             TRUE   \n",
              "4           15               7        268085             TRUE   \n",
              "...        ...             ...           ...              ...   \n",
              "2335        18               4        272277             TRUE   \n",
              "2336        18               1                          FALSE   \n",
              "2337        11               6        258219             TRUE   \n",
              "2338        12               6        139645             TRUE   \n",
              "2339        14               1        114280             TRUE   \n",
              "\n",
              "     like dislike disabled  likes dislike tag appered in title      views  \n",
              "0                    FALSE  13342    6089                False  1978978.0  \n",
              "1                    FALSE   5761    3044                False  1487870.0  \n",
              "2                     TRUE      0       0                 True  1502102.0  \n",
              "3                     TRUE      0       0                 True  3519302.0  \n",
              "4                     TRUE      0       0                 True  4835374.0  \n",
              "...                    ...    ...     ...                  ...        ...  \n",
              "2335                 FALSE  16364   11887                False   774140.0  \n",
              "2336                 FALSE   9308    7459                 True   694588.0  \n",
              "2337                 FALSE  14820   11934                 True  1400211.0  \n",
              "2338                 FALSE   9293    1065                 True  4047885.0  \n",
              "2339                 FALSE  17458   10633                    0        0.0  \n",
              "\n",
              "[2340 rows x 17 columns]"
            ],
            "text/html": [
              "\n",
              "  <div id=\"df-6cfe336f-0795-4fa5-b9b2-764566e66703\">\n",
              "    <div class=\"colab-df-container\">\n",
              "      <div>\n",
              "<style scoped>\n",
              "    .dataframe tbody tr th:only-of-type {\n",
              "        vertical-align: middle;\n",
              "    }\n",
              "\n",
              "    .dataframe tbody tr th {\n",
              "        vertical-align: top;\n",
              "    }\n",
              "\n",
              "    .dataframe thead th {\n",
              "        text-align: right;\n",
              "    }\n",
              "</style>\n",
              "<table border=\"1\" class=\"dataframe\">\n",
              "  <thead>\n",
              "    <tr style=\"text-align: right;\">\n",
              "      <th></th>\n",
              "      <th>Video_id</th>\n",
              "      <th>category_id</th>\n",
              "      <th>channel_title</th>\n",
              "      <th>subscriber</th>\n",
              "      <th>title</th>\n",
              "      <th>tags</th>\n",
              "      <th>description</th>\n",
              "      <th>Trend_day_count</th>\n",
              "      <th>Tag_count</th>\n",
              "      <th>Trend_tag_count</th>\n",
              "      <th>comment_count</th>\n",
              "      <th>comment_disabled</th>\n",
              "      <th>like dislike disabled</th>\n",
              "      <th>likes</th>\n",
              "      <th>dislike</th>\n",
              "      <th>tag appered in title</th>\n",
              "      <th>views</th>\n",
              "    </tr>\n",
              "  </thead>\n",
              "  <tbody>\n",
              "    <tr>\n",
              "      <th>0</th>\n",
              "      <td>HDR9SQc79</td>\n",
              "      <td>22</td>\n",
              "      <td>CaseyNeistat</td>\n",
              "      <td>9086142.0</td>\n",
              "      <td>WE WANT TO TALK ABOUT OUR MARRIAGE</td>\n",
              "      <td>SHANtell martin</td>\n",
              "      <td>SHANTELL'S CHANNEL - https://www.youtube.com/s...</td>\n",
              "      <td>6.0</td>\n",
              "      <td>21</td>\n",
              "      <td>6</td>\n",
              "      <td></td>\n",
              "      <td>FALSE</td>\n",
              "      <td>FALSE</td>\n",
              "      <td>13342</td>\n",
              "      <td>6089</td>\n",
              "      <td>False</td>\n",
              "      <td>1978978.0</td>\n",
              "    </tr>\n",
              "    <tr>\n",
              "      <th>1</th>\n",
              "      <td>KNH52UF?48</td>\n",
              "      <td>24</td>\n",
              "      <td>LastWeekTonight</td>\n",
              "      <td>5937292.0</td>\n",
              "      <td>The Trump Presidency: Last Week Tonight with J...</td>\n",
              "      <td>last week tonight trump presidency|last week t...</td>\n",
              "      <td>One year after the presidential election, John...</td>\n",
              "      <td>1.0</td>\n",
              "      <td>23</td>\n",
              "      <td>1</td>\n",
              "      <td>116266</td>\n",
              "      <td>TRUE</td>\n",
              "      <td>FALSE</td>\n",
              "      <td>5761</td>\n",
              "      <td>3044</td>\n",
              "      <td>False</td>\n",
              "      <td>1487870.0</td>\n",
              "    </tr>\n",
              "    <tr>\n",
              "      <th>2</th>\n",
              "      <td>QTW28IRG36</td>\n",
              "      <td>23</td>\n",
              "      <td>Rudy Mancuso</td>\n",
              "      <td>4191209.0</td>\n",
              "      <td>Racist Superman | Rudy Mancuso, King Bach &amp; Le...</td>\n",
              "      <td>racist superman|rudy|mancuso|king|bach|racist|...</td>\n",
              "      <td>WATCH MY PREVIOUS VIDEO ▶ \\n\\nSUBSCRIBE ► http...</td>\n",
              "      <td>10.0</td>\n",
              "      <td>22</td>\n",
              "      <td>3</td>\n",
              "      <td>257850</td>\n",
              "      <td>TRUE</td>\n",
              "      <td>TRUE</td>\n",
              "      <td>0</td>\n",
              "      <td>0</td>\n",
              "      <td>True</td>\n",
              "      <td>1502102.0</td>\n",
              "    </tr>\n",
              "    <tr>\n",
              "      <th>3</th>\n",
              "      <td>MGL76WI]26</td>\n",
              "      <td>24</td>\n",
              "      <td>Good Mythical Morning</td>\n",
              "      <td>13186408.0</td>\n",
              "      <td>Nickelback Lyrics: Real or Fake?</td>\n",
              "      <td>rhett and link|gmm|good mythical morning|rhett...</td>\n",
              "      <td>Today we find out if Link is a Nickelback amat...</td>\n",
              "      <td>12.0</td>\n",
              "      <td>17</td>\n",
              "      <td>5</td>\n",
              "      <td>263939</td>\n",
              "      <td>TRUE</td>\n",
              "      <td>TRUE</td>\n",
              "      <td>0</td>\n",
              "      <td>0</td>\n",
              "      <td>True</td>\n",
              "      <td>3519302.0</td>\n",
              "    </tr>\n",
              "    <tr>\n",
              "      <th>4</th>\n",
              "      <td>TWP93KXT70</td>\n",
              "      <td>24</td>\n",
              "      <td>nigahiga</td>\n",
              "      <td>20563106.0</td>\n",
              "      <td>I Dare You: GOING BALD!?</td>\n",
              "      <td>ryan|higa|higatv|nigahiga|i dare you|idy|rhpc|...</td>\n",
              "      <td>I know it's been a while since we did this sho...</td>\n",
              "      <td>11.0</td>\n",
              "      <td>15</td>\n",
              "      <td>7</td>\n",
              "      <td>268085</td>\n",
              "      <td>TRUE</td>\n",
              "      <td>TRUE</td>\n",
              "      <td>0</td>\n",
              "      <td>0</td>\n",
              "      <td>True</td>\n",
              "      <td>4835374.0</td>\n",
              "    </tr>\n",
              "    <tr>\n",
              "      <th>...</th>\n",
              "      <td>...</td>\n",
              "      <td>...</td>\n",
              "      <td>...</td>\n",
              "      <td>...</td>\n",
              "      <td>...</td>\n",
              "      <td>...</td>\n",
              "      <td>...</td>\n",
              "      <td>...</td>\n",
              "      <td>...</td>\n",
              "      <td>...</td>\n",
              "      <td>...</td>\n",
              "      <td>...</td>\n",
              "      <td>...</td>\n",
              "      <td>...</td>\n",
              "      <td>...</td>\n",
              "      <td>...</td>\n",
              "      <td>...</td>\n",
              "    </tr>\n",
              "    <tr>\n",
              "      <th>2335</th>\n",
              "      <td>UFM79JA=97</td>\n",
              "      <td>24</td>\n",
              "      <td>Billions</td>\n",
              "      <td>26248.0</td>\n",
              "      <td>Billions Season 3 (2018) | Official Trailer | ...</td>\n",
              "      <td>Trader|US Attorney|Susan Misner|Malin Akerman|...</td>\n",
              "      <td>Season three of Billions finds Chuck Rhoades (...</td>\n",
              "      <td>8.0</td>\n",
              "      <td>18</td>\n",
              "      <td>4</td>\n",
              "      <td>272277</td>\n",
              "      <td>TRUE</td>\n",
              "      <td>FALSE</td>\n",
              "      <td>16364</td>\n",
              "      <td>11887</td>\n",
              "      <td>False</td>\n",
              "      <td>774140.0</td>\n",
              "    </tr>\n",
              "    <tr>\n",
              "      <th>2336</th>\n",
              "      <td>FMU22HOJ55</td>\n",
              "      <td>17</td>\n",
              "      <td>ESPN</td>\n",
              "      <td>2702088.0</td>\n",
              "      <td>LaVar Ball gets real during interview with ESP...</td>\n",
              "      <td>lavar|ball|gets|real|during|interview|with|esp...</td>\n",
              "      <td>LaVar Ball gets real during interview with ESP...</td>\n",
              "      <td>5.0</td>\n",
              "      <td>18</td>\n",
              "      <td>1</td>\n",
              "      <td></td>\n",
              "      <td>FALSE</td>\n",
              "      <td>FALSE</td>\n",
              "      <td>9308</td>\n",
              "      <td>7459</td>\n",
              "      <td>True</td>\n",
              "      <td>694588.0</td>\n",
              "    </tr>\n",
              "    <tr>\n",
              "      <th>2337</th>\n",
              "      <td>FLP46QR&gt;14</td>\n",
              "      <td>25</td>\n",
              "      <td>Vox</td>\n",
              "      <td>3808198.0</td>\n",
              "      <td>Iran's massive protests, explained in 4 minutes</td>\n",
              "      <td>vox.com|vox|explain|iran|iran protests|iranian...</td>\n",
              "      <td>How the price of eggs sparked an uprising in I...</td>\n",
              "      <td>1.0</td>\n",
              "      <td>11</td>\n",
              "      <td>6</td>\n",
              "      <td>258219</td>\n",
              "      <td>TRUE</td>\n",
              "      <td>FALSE</td>\n",
              "      <td>14820</td>\n",
              "      <td>11934</td>\n",
              "      <td>True</td>\n",
              "      <td>1400211.0</td>\n",
              "    </tr>\n",
              "    <tr>\n",
              "      <th>2338</th>\n",
              "      <td>YYZ82HE\\69</td>\n",
              "      <td>20</td>\n",
              "      <td>DanTDM</td>\n",
              "      <td>18185017.0</td>\n",
              "      <td>YOUTUBE SENT ME A MYSTERY GIFT!!!</td>\n",
              "      <td>dantdm|dantdm youtube|youtube dantdm|dantdm re...</td>\n",
              "      <td>► Subscribe and join TeamTDM! :: http://bit.ly...</td>\n",
              "      <td>2.0</td>\n",
              "      <td>12</td>\n",
              "      <td>6</td>\n",
              "      <td>139645</td>\n",
              "      <td>TRUE</td>\n",
              "      <td>FALSE</td>\n",
              "      <td>9293</td>\n",
              "      <td>1065</td>\n",
              "      <td>True</td>\n",
              "      <td>4047885.0</td>\n",
              "    </tr>\n",
              "    <tr>\n",
              "      <th>2339</th>\n",
              "      <td>NEJ22YCS36</td>\n",
              "      <td>24</td>\n",
              "      <td>Daz Games</td>\n",
              "      <td>1891854.0</td>\n",
              "      <td>Daz Watches Worst Kickstarters #9</td>\n",
              "      <td>Daz|games|worst kickstarters|daz watches|daz g...</td>\n",
              "      <td>Back again with kickstarters! \\n\\nHead over to...</td>\n",
              "      <td>11.0</td>\n",
              "      <td>14</td>\n",
              "      <td>1</td>\n",
              "      <td>114280</td>\n",
              "      <td>TRUE</td>\n",
              "      <td>FALSE</td>\n",
              "      <td>17458</td>\n",
              "      <td>10633</td>\n",
              "      <td>0</td>\n",
              "      <td>0.0</td>\n",
              "    </tr>\n",
              "  </tbody>\n",
              "</table>\n",
              "<p>2340 rows × 17 columns</p>\n",
              "</div>\n",
              "      <button class=\"colab-df-convert\" onclick=\"convertToInteractive('df-6cfe336f-0795-4fa5-b9b2-764566e66703')\"\n",
              "              title=\"Convert this dataframe to an interactive table.\"\n",
              "              style=\"display:none;\">\n",
              "        \n",
              "  <svg xmlns=\"http://www.w3.org/2000/svg\" height=\"24px\"viewBox=\"0 0 24 24\"\n",
              "       width=\"24px\">\n",
              "    <path d=\"M0 0h24v24H0V0z\" fill=\"none\"/>\n",
              "    <path d=\"M18.56 5.44l.94 2.06.94-2.06 2.06-.94-2.06-.94-.94-2.06-.94 2.06-2.06.94zm-11 1L8.5 8.5l.94-2.06 2.06-.94-2.06-.94L8.5 2.5l-.94 2.06-2.06.94zm10 10l.94 2.06.94-2.06 2.06-.94-2.06-.94-.94-2.06-.94 2.06-2.06.94z\"/><path d=\"M17.41 7.96l-1.37-1.37c-.4-.4-.92-.59-1.43-.59-.52 0-1.04.2-1.43.59L10.3 9.45l-7.72 7.72c-.78.78-.78 2.05 0 2.83L4 21.41c.39.39.9.59 1.41.59.51 0 1.02-.2 1.41-.59l7.78-7.78 2.81-2.81c.8-.78.8-2.07 0-2.86zM5.41 20L4 18.59l7.72-7.72 1.47 1.35L5.41 20z\"/>\n",
              "  </svg>\n",
              "      </button>\n",
              "      \n",
              "  <style>\n",
              "    .colab-df-container {\n",
              "      display:flex;\n",
              "      flex-wrap:wrap;\n",
              "      gap: 12px;\n",
              "    }\n",
              "\n",
              "    .colab-df-convert {\n",
              "      background-color: #E8F0FE;\n",
              "      border: none;\n",
              "      border-radius: 50%;\n",
              "      cursor: pointer;\n",
              "      display: none;\n",
              "      fill: #1967D2;\n",
              "      height: 32px;\n",
              "      padding: 0 0 0 0;\n",
              "      width: 32px;\n",
              "    }\n",
              "\n",
              "    .colab-df-convert:hover {\n",
              "      background-color: #E2EBFA;\n",
              "      box-shadow: 0px 1px 2px rgba(60, 64, 67, 0.3), 0px 1px 3px 1px rgba(60, 64, 67, 0.15);\n",
              "      fill: #174EA6;\n",
              "    }\n",
              "\n",
              "    [theme=dark] .colab-df-convert {\n",
              "      background-color: #3B4455;\n",
              "      fill: #D2E3FC;\n",
              "    }\n",
              "\n",
              "    [theme=dark] .colab-df-convert:hover {\n",
              "      background-color: #434B5C;\n",
              "      box-shadow: 0px 1px 3px 1px rgba(0, 0, 0, 0.15);\n",
              "      filter: drop-shadow(0px 1px 2px rgba(0, 0, 0, 0.3));\n",
              "      fill: #FFFFFF;\n",
              "    }\n",
              "  </style>\n",
              "\n",
              "      <script>\n",
              "        const buttonEl =\n",
              "          document.querySelector('#df-6cfe336f-0795-4fa5-b9b2-764566e66703 button.colab-df-convert');\n",
              "        buttonEl.style.display =\n",
              "          google.colab.kernel.accessAllowed ? 'block' : 'none';\n",
              "\n",
              "        async function convertToInteractive(key) {\n",
              "          const element = document.querySelector('#df-6cfe336f-0795-4fa5-b9b2-764566e66703');\n",
              "          const dataTable =\n",
              "            await google.colab.kernel.invokeFunction('convertToInteractive',\n",
              "                                                     [key], {});\n",
              "          if (!dataTable) return;\n",
              "\n",
              "          const docLinkHtml = 'Like what you see? Visit the ' +\n",
              "            '<a target=\"_blank\" href=https://colab.research.google.com/notebooks/data_table.ipynb>data table notebook</a>'\n",
              "            + ' to learn more about interactive tables.';\n",
              "          element.innerHTML = '';\n",
              "          dataTable['output_type'] = 'display_data';\n",
              "          await google.colab.output.renderOutput(dataTable, element);\n",
              "          const docLink = document.createElement('div');\n",
              "          docLink.innerHTML = docLinkHtml;\n",
              "          element.appendChild(docLink);\n",
              "        }\n",
              "      </script>\n",
              "    </div>\n",
              "  </div>\n",
              "  "
            ]
          },
          "metadata": {},
          "execution_count": 15
        }
      ]
    },
    {
      "cell_type": "code",
      "source": [
        "df2.info()"
      ],
      "metadata": {
        "id": "xILzSPpyki9X",
        "colab": {
          "base_uri": "https://localhost:8080/"
        },
        "outputId": "e683bbd9-6176-45b3-a12f-ca3dda1adbd0"
      },
      "execution_count": 16,
      "outputs": [
        {
          "output_type": "stream",
          "name": "stdout",
          "text": [
            "<class 'pandas.core.frame.DataFrame'>\n",
            "RangeIndex: 2340 entries, 0 to 2339\n",
            "Data columns (total 17 columns):\n",
            " #   Column                 Non-Null Count  Dtype  \n",
            "---  ------                 --------------  -----  \n",
            " 0   Video_id               2340 non-null   object \n",
            " 1   category_id            2334 non-null   object \n",
            " 2   channel_title          2337 non-null   object \n",
            " 3   subscriber             2320 non-null   float64\n",
            " 4   title                  2337 non-null   object \n",
            " 5   tags                   2245 non-null   object \n",
            " 6   description            2299 non-null   object \n",
            " 7   Trend_day_count        2339 non-null   float64\n",
            " 8   Tag_count              2339 non-null   object \n",
            " 9   Trend_tag_count        2339 non-null   object \n",
            " 10  comment_count          2340 non-null   object \n",
            " 11  comment_disabled       2340 non-null   object \n",
            " 12  like dislike disabled  2340 non-null   object \n",
            " 13  likes                  2340 non-null   object \n",
            " 14  dislike                2340 non-null   object \n",
            " 15  tag appered in title   2338 non-null   object \n",
            " 16  views                  2339 non-null   float64\n",
            "dtypes: float64(3), object(14)\n",
            "memory usage: 310.9+ KB\n"
          ]
        }
      ]
    },
    {
      "cell_type": "code",
      "source": [
        "df2 = df2.fillna(0)"
      ],
      "metadata": {
        "id": "iHF8WQWMkoNO"
      },
      "execution_count": 17,
      "outputs": []
    },
    {
      "cell_type": "code",
      "source": [
        "df2.info()"
      ],
      "metadata": {
        "id": "wqyc7XmckumM",
        "colab": {
          "base_uri": "https://localhost:8080/"
        },
        "outputId": "37fce64b-59d7-4fc5-8331-4bc890aa1640"
      },
      "execution_count": 18,
      "outputs": [
        {
          "output_type": "stream",
          "name": "stdout",
          "text": [
            "<class 'pandas.core.frame.DataFrame'>\n",
            "RangeIndex: 2340 entries, 0 to 2339\n",
            "Data columns (total 17 columns):\n",
            " #   Column                 Non-Null Count  Dtype  \n",
            "---  ------                 --------------  -----  \n",
            " 0   Video_id               2340 non-null   object \n",
            " 1   category_id            2340 non-null   object \n",
            " 2   channel_title          2340 non-null   object \n",
            " 3   subscriber             2340 non-null   float64\n",
            " 4   title                  2340 non-null   object \n",
            " 5   tags                   2340 non-null   object \n",
            " 6   description            2340 non-null   object \n",
            " 7   Trend_day_count        2340 non-null   float64\n",
            " 8   Tag_count              2340 non-null   object \n",
            " 9   Trend_tag_count        2340 non-null   object \n",
            " 10  comment_count          2340 non-null   object \n",
            " 11  comment_disabled       2340 non-null   object \n",
            " 12  like dislike disabled  2340 non-null   object \n",
            " 13  likes                  2340 non-null   object \n",
            " 14  dislike                2340 non-null   object \n",
            " 15  tag appered in title   2340 non-null   object \n",
            " 16  views                  2340 non-null   float64\n",
            "dtypes: float64(3), object(14)\n",
            "memory usage: 310.9+ KB\n"
          ]
        }
      ]
    },
    {
      "cell_type": "markdown",
      "source": [
        "**CHANGING DATA TYPES FOR NUMERIC DATA**"
      ],
      "metadata": {
        "id": "PQGOzDnk0YTy"
      }
    },
    {
      "cell_type": "code",
      "source": [
        "df2['Trend_day_count']= df2['Trend_day_count'].astype(float)"
      ],
      "metadata": {
        "id": "jwJUCaKfnCW_"
      },
      "execution_count": 19,
      "outputs": []
    },
    {
      "cell_type": "code",
      "source": [
        "df2['dislike']= pd.to_numeric(df2['dislike'], errors = 'coerce')\n",
        "df2['comment_count']= pd.to_numeric(df2['comment_count'], errors = 'coerce')\n",
        "df2['Trend_tag_count']= pd.to_numeric(df2['Trend_tag_count'], errors = 'coerce')\n",
        "df2['Tag_count']= pd.to_numeric(df2['Tag_count'], errors = 'coerce')\n",
        "df2['category_id']= pd.to_numeric(df2['category_id'], errors = 'coerce')\n",
        "df2['likes']= pd.to_numeric(df2['likes'], errors = 'coerce')"
      ],
      "metadata": {
        "id": "YUspxoYrk4Z9"
      },
      "execution_count": 20,
      "outputs": []
    },
    {
      "cell_type": "code",
      "source": [
        "df2 = df2.fillna(0)"
      ],
      "metadata": {
        "id": "q7BdPR9xygUy"
      },
      "execution_count": 21,
      "outputs": []
    },
    {
      "cell_type": "code",
      "source": [
        "df2.info()"
      ],
      "metadata": {
        "colab": {
          "base_uri": "https://localhost:8080/"
        },
        "id": "U825WBSD3wxO",
        "outputId": "43aa1378-42af-459a-c30a-5ab84917a9db"
      },
      "execution_count": 22,
      "outputs": [
        {
          "output_type": "stream",
          "name": "stdout",
          "text": [
            "<class 'pandas.core.frame.DataFrame'>\n",
            "RangeIndex: 2340 entries, 0 to 2339\n",
            "Data columns (total 17 columns):\n",
            " #   Column                 Non-Null Count  Dtype  \n",
            "---  ------                 --------------  -----  \n",
            " 0   Video_id               2340 non-null   object \n",
            " 1   category_id            2340 non-null   float64\n",
            " 2   channel_title          2340 non-null   object \n",
            " 3   subscriber             2340 non-null   float64\n",
            " 4   title                  2340 non-null   object \n",
            " 5   tags                   2340 non-null   object \n",
            " 6   description            2340 non-null   object \n",
            " 7   Trend_day_count        2340 non-null   float64\n",
            " 8   Tag_count              2340 non-null   float64\n",
            " 9   Trend_tag_count        2340 non-null   float64\n",
            " 10  comment_count          2340 non-null   float64\n",
            " 11  comment_disabled       2340 non-null   object \n",
            " 12  like dislike disabled  2340 non-null   object \n",
            " 13  likes                  2340 non-null   float64\n",
            " 14  dislike                2340 non-null   float64\n",
            " 15  tag appered in title   2340 non-null   object \n",
            " 16  views                  2340 non-null   float64\n",
            "dtypes: float64(9), object(8)\n",
            "memory usage: 310.9+ KB\n"
          ]
        }
      ]
    },
    {
      "cell_type": "code",
      "source": [
        "df2['like dislike disabled']= df2['like dislike disabled'].astype(bool)\n",
        "df2['comment_disabled']= df2['comment_disabled'].astype(bool)\n",
        "df2['tag appered in title']= df2['tag appered in title'].astype(bool)\n"
      ],
      "metadata": {
        "id": "ORfvs8OT5lyy"
      },
      "execution_count": 42,
      "outputs": []
    },
    {
      "cell_type": "code",
      "source": [
        "df2.fillna(0)"
      ],
      "metadata": {
        "colab": {
          "base_uri": "https://localhost:8080/",
          "height": 1000
        },
        "id": "Hm0CL7e4RzMA",
        "outputId": "5cd3ff4e-c13a-43c2-88cf-9f0d6beb744c"
      },
      "execution_count": 24,
      "outputs": [
        {
          "output_type": "execute_result",
          "data": {
            "text/plain": [
              "        Video_id  category_id          channel_title  subscriber  \\\n",
              "0      HDR9SQc79         22.0           CaseyNeistat   9086142.0   \n",
              "1     KNH52UF?48         24.0        LastWeekTonight   5937292.0   \n",
              "2     QTW28IRG36         23.0           Rudy Mancuso   4191209.0   \n",
              "3     MGL76WI]26         24.0  Good Mythical Morning  13186408.0   \n",
              "4     TWP93KXT70         24.0               nigahiga  20563106.0   \n",
              "...          ...          ...                    ...         ...   \n",
              "2335  UFM79JA=97         24.0               Billions     26248.0   \n",
              "2336  FMU22HOJ55         17.0                   ESPN   2702088.0   \n",
              "2337  FLP46QR>14         25.0                    Vox   3808198.0   \n",
              "2338  YYZ82HE\\69         20.0                 DanTDM  18185017.0   \n",
              "2339  NEJ22YCS36         24.0              Daz Games   1891854.0   \n",
              "\n",
              "                                                  title  \\\n",
              "0                    WE WANT TO TALK ABOUT OUR MARRIAGE   \n",
              "1     The Trump Presidency: Last Week Tonight with J...   \n",
              "2     Racist Superman | Rudy Mancuso, King Bach & Le...   \n",
              "3                      Nickelback Lyrics: Real or Fake?   \n",
              "4                              I Dare You: GOING BALD!?   \n",
              "...                                                 ...   \n",
              "2335  Billions Season 3 (2018) | Official Trailer | ...   \n",
              "2336  LaVar Ball gets real during interview with ESP...   \n",
              "2337    Iran's massive protests, explained in 4 minutes   \n",
              "2338                  YOUTUBE SENT ME A MYSTERY GIFT!!!   \n",
              "2339                  Daz Watches Worst Kickstarters #9   \n",
              "\n",
              "                                                   tags  \\\n",
              "0                                       SHANtell martin   \n",
              "1     last week tonight trump presidency|last week t...   \n",
              "2     racist superman|rudy|mancuso|king|bach|racist|...   \n",
              "3     rhett and link|gmm|good mythical morning|rhett...   \n",
              "4     ryan|higa|higatv|nigahiga|i dare you|idy|rhpc|...   \n",
              "...                                                 ...   \n",
              "2335  Trader|US Attorney|Susan Misner|Malin Akerman|...   \n",
              "2336  lavar|ball|gets|real|during|interview|with|esp...   \n",
              "2337  vox.com|vox|explain|iran|iran protests|iranian...   \n",
              "2338  dantdm|dantdm youtube|youtube dantdm|dantdm re...   \n",
              "2339  Daz|games|worst kickstarters|daz watches|daz g...   \n",
              "\n",
              "                                            description  Trend_day_count  \\\n",
              "0     SHANTELL'S CHANNEL - https://www.youtube.com/s...              6.0   \n",
              "1     One year after the presidential election, John...              1.0   \n",
              "2     WATCH MY PREVIOUS VIDEO ▶ \\n\\nSUBSCRIBE ► http...             10.0   \n",
              "3     Today we find out if Link is a Nickelback amat...             12.0   \n",
              "4     I know it's been a while since we did this sho...             11.0   \n",
              "...                                                 ...              ...   \n",
              "2335  Season three of Billions finds Chuck Rhoades (...              8.0   \n",
              "2336  LaVar Ball gets real during interview with ESP...              5.0   \n",
              "2337  How the price of eggs sparked an uprising in I...              1.0   \n",
              "2338  ► Subscribe and join TeamTDM! :: http://bit.ly...              2.0   \n",
              "2339  Back again with kickstarters! \\n\\nHead over to...             11.0   \n",
              "\n",
              "      Tag_count  Trend_tag_count  comment_count  comment_disabled  \\\n",
              "0          21.0              6.0            0.0              True   \n",
              "1          23.0              1.0       116266.0              True   \n",
              "2          22.0              3.0       257850.0              True   \n",
              "3          17.0              5.0       263939.0              True   \n",
              "4          15.0              7.0       268085.0              True   \n",
              "...         ...              ...            ...               ...   \n",
              "2335       18.0              4.0       272277.0              True   \n",
              "2336       18.0              1.0            0.0              True   \n",
              "2337       11.0              6.0       258219.0              True   \n",
              "2338       12.0              6.0       139645.0              True   \n",
              "2339       14.0              1.0       114280.0              True   \n",
              "\n",
              "      like dislike disabled    likes  dislike  tag appered in title      views  \n",
              "0                      True  13342.0   6089.0                 False  1978978.0  \n",
              "1                      True   5761.0   3044.0                 False  1487870.0  \n",
              "2                      True      0.0      0.0                  True  1502102.0  \n",
              "3                      True      0.0      0.0                  True  3519302.0  \n",
              "4                      True      0.0      0.0                  True  4835374.0  \n",
              "...                     ...      ...      ...                   ...        ...  \n",
              "2335                   True  16364.0  11887.0                 False   774140.0  \n",
              "2336                   True   9308.0   7459.0                  True   694588.0  \n",
              "2337                   True  14820.0  11934.0                  True  1400211.0  \n",
              "2338                   True   9293.0   1065.0                  True  4047885.0  \n",
              "2339                   True  17458.0  10633.0                 False        0.0  \n",
              "\n",
              "[2340 rows x 17 columns]"
            ],
            "text/html": [
              "\n",
              "  <div id=\"df-4711335a-c3e0-4412-8081-2541bac445ad\">\n",
              "    <div class=\"colab-df-container\">\n",
              "      <div>\n",
              "<style scoped>\n",
              "    .dataframe tbody tr th:only-of-type {\n",
              "        vertical-align: middle;\n",
              "    }\n",
              "\n",
              "    .dataframe tbody tr th {\n",
              "        vertical-align: top;\n",
              "    }\n",
              "\n",
              "    .dataframe thead th {\n",
              "        text-align: right;\n",
              "    }\n",
              "</style>\n",
              "<table border=\"1\" class=\"dataframe\">\n",
              "  <thead>\n",
              "    <tr style=\"text-align: right;\">\n",
              "      <th></th>\n",
              "      <th>Video_id</th>\n",
              "      <th>category_id</th>\n",
              "      <th>channel_title</th>\n",
              "      <th>subscriber</th>\n",
              "      <th>title</th>\n",
              "      <th>tags</th>\n",
              "      <th>description</th>\n",
              "      <th>Trend_day_count</th>\n",
              "      <th>Tag_count</th>\n",
              "      <th>Trend_tag_count</th>\n",
              "      <th>comment_count</th>\n",
              "      <th>comment_disabled</th>\n",
              "      <th>like dislike disabled</th>\n",
              "      <th>likes</th>\n",
              "      <th>dislike</th>\n",
              "      <th>tag appered in title</th>\n",
              "      <th>views</th>\n",
              "    </tr>\n",
              "  </thead>\n",
              "  <tbody>\n",
              "    <tr>\n",
              "      <th>0</th>\n",
              "      <td>HDR9SQc79</td>\n",
              "      <td>22.0</td>\n",
              "      <td>CaseyNeistat</td>\n",
              "      <td>9086142.0</td>\n",
              "      <td>WE WANT TO TALK ABOUT OUR MARRIAGE</td>\n",
              "      <td>SHANtell martin</td>\n",
              "      <td>SHANTELL'S CHANNEL - https://www.youtube.com/s...</td>\n",
              "      <td>6.0</td>\n",
              "      <td>21.0</td>\n",
              "      <td>6.0</td>\n",
              "      <td>0.0</td>\n",
              "      <td>True</td>\n",
              "      <td>True</td>\n",
              "      <td>13342.0</td>\n",
              "      <td>6089.0</td>\n",
              "      <td>False</td>\n",
              "      <td>1978978.0</td>\n",
              "    </tr>\n",
              "    <tr>\n",
              "      <th>1</th>\n",
              "      <td>KNH52UF?48</td>\n",
              "      <td>24.0</td>\n",
              "      <td>LastWeekTonight</td>\n",
              "      <td>5937292.0</td>\n",
              "      <td>The Trump Presidency: Last Week Tonight with J...</td>\n",
              "      <td>last week tonight trump presidency|last week t...</td>\n",
              "      <td>One year after the presidential election, John...</td>\n",
              "      <td>1.0</td>\n",
              "      <td>23.0</td>\n",
              "      <td>1.0</td>\n",
              "      <td>116266.0</td>\n",
              "      <td>True</td>\n",
              "      <td>True</td>\n",
              "      <td>5761.0</td>\n",
              "      <td>3044.0</td>\n",
              "      <td>False</td>\n",
              "      <td>1487870.0</td>\n",
              "    </tr>\n",
              "    <tr>\n",
              "      <th>2</th>\n",
              "      <td>QTW28IRG36</td>\n",
              "      <td>23.0</td>\n",
              "      <td>Rudy Mancuso</td>\n",
              "      <td>4191209.0</td>\n",
              "      <td>Racist Superman | Rudy Mancuso, King Bach &amp; Le...</td>\n",
              "      <td>racist superman|rudy|mancuso|king|bach|racist|...</td>\n",
              "      <td>WATCH MY PREVIOUS VIDEO ▶ \\n\\nSUBSCRIBE ► http...</td>\n",
              "      <td>10.0</td>\n",
              "      <td>22.0</td>\n",
              "      <td>3.0</td>\n",
              "      <td>257850.0</td>\n",
              "      <td>True</td>\n",
              "      <td>True</td>\n",
              "      <td>0.0</td>\n",
              "      <td>0.0</td>\n",
              "      <td>True</td>\n",
              "      <td>1502102.0</td>\n",
              "    </tr>\n",
              "    <tr>\n",
              "      <th>3</th>\n",
              "      <td>MGL76WI]26</td>\n",
              "      <td>24.0</td>\n",
              "      <td>Good Mythical Morning</td>\n",
              "      <td>13186408.0</td>\n",
              "      <td>Nickelback Lyrics: Real or Fake?</td>\n",
              "      <td>rhett and link|gmm|good mythical morning|rhett...</td>\n",
              "      <td>Today we find out if Link is a Nickelback amat...</td>\n",
              "      <td>12.0</td>\n",
              "      <td>17.0</td>\n",
              "      <td>5.0</td>\n",
              "      <td>263939.0</td>\n",
              "      <td>True</td>\n",
              "      <td>True</td>\n",
              "      <td>0.0</td>\n",
              "      <td>0.0</td>\n",
              "      <td>True</td>\n",
              "      <td>3519302.0</td>\n",
              "    </tr>\n",
              "    <tr>\n",
              "      <th>4</th>\n",
              "      <td>TWP93KXT70</td>\n",
              "      <td>24.0</td>\n",
              "      <td>nigahiga</td>\n",
              "      <td>20563106.0</td>\n",
              "      <td>I Dare You: GOING BALD!?</td>\n",
              "      <td>ryan|higa|higatv|nigahiga|i dare you|idy|rhpc|...</td>\n",
              "      <td>I know it's been a while since we did this sho...</td>\n",
              "      <td>11.0</td>\n",
              "      <td>15.0</td>\n",
              "      <td>7.0</td>\n",
              "      <td>268085.0</td>\n",
              "      <td>True</td>\n",
              "      <td>True</td>\n",
              "      <td>0.0</td>\n",
              "      <td>0.0</td>\n",
              "      <td>True</td>\n",
              "      <td>4835374.0</td>\n",
              "    </tr>\n",
              "    <tr>\n",
              "      <th>...</th>\n",
              "      <td>...</td>\n",
              "      <td>...</td>\n",
              "      <td>...</td>\n",
              "      <td>...</td>\n",
              "      <td>...</td>\n",
              "      <td>...</td>\n",
              "      <td>...</td>\n",
              "      <td>...</td>\n",
              "      <td>...</td>\n",
              "      <td>...</td>\n",
              "      <td>...</td>\n",
              "      <td>...</td>\n",
              "      <td>...</td>\n",
              "      <td>...</td>\n",
              "      <td>...</td>\n",
              "      <td>...</td>\n",
              "      <td>...</td>\n",
              "    </tr>\n",
              "    <tr>\n",
              "      <th>2335</th>\n",
              "      <td>UFM79JA=97</td>\n",
              "      <td>24.0</td>\n",
              "      <td>Billions</td>\n",
              "      <td>26248.0</td>\n",
              "      <td>Billions Season 3 (2018) | Official Trailer | ...</td>\n",
              "      <td>Trader|US Attorney|Susan Misner|Malin Akerman|...</td>\n",
              "      <td>Season three of Billions finds Chuck Rhoades (...</td>\n",
              "      <td>8.0</td>\n",
              "      <td>18.0</td>\n",
              "      <td>4.0</td>\n",
              "      <td>272277.0</td>\n",
              "      <td>True</td>\n",
              "      <td>True</td>\n",
              "      <td>16364.0</td>\n",
              "      <td>11887.0</td>\n",
              "      <td>False</td>\n",
              "      <td>774140.0</td>\n",
              "    </tr>\n",
              "    <tr>\n",
              "      <th>2336</th>\n",
              "      <td>FMU22HOJ55</td>\n",
              "      <td>17.0</td>\n",
              "      <td>ESPN</td>\n",
              "      <td>2702088.0</td>\n",
              "      <td>LaVar Ball gets real during interview with ESP...</td>\n",
              "      <td>lavar|ball|gets|real|during|interview|with|esp...</td>\n",
              "      <td>LaVar Ball gets real during interview with ESP...</td>\n",
              "      <td>5.0</td>\n",
              "      <td>18.0</td>\n",
              "      <td>1.0</td>\n",
              "      <td>0.0</td>\n",
              "      <td>True</td>\n",
              "      <td>True</td>\n",
              "      <td>9308.0</td>\n",
              "      <td>7459.0</td>\n",
              "      <td>True</td>\n",
              "      <td>694588.0</td>\n",
              "    </tr>\n",
              "    <tr>\n",
              "      <th>2337</th>\n",
              "      <td>FLP46QR&gt;14</td>\n",
              "      <td>25.0</td>\n",
              "      <td>Vox</td>\n",
              "      <td>3808198.0</td>\n",
              "      <td>Iran's massive protests, explained in 4 minutes</td>\n",
              "      <td>vox.com|vox|explain|iran|iran protests|iranian...</td>\n",
              "      <td>How the price of eggs sparked an uprising in I...</td>\n",
              "      <td>1.0</td>\n",
              "      <td>11.0</td>\n",
              "      <td>6.0</td>\n",
              "      <td>258219.0</td>\n",
              "      <td>True</td>\n",
              "      <td>True</td>\n",
              "      <td>14820.0</td>\n",
              "      <td>11934.0</td>\n",
              "      <td>True</td>\n",
              "      <td>1400211.0</td>\n",
              "    </tr>\n",
              "    <tr>\n",
              "      <th>2338</th>\n",
              "      <td>YYZ82HE\\69</td>\n",
              "      <td>20.0</td>\n",
              "      <td>DanTDM</td>\n",
              "      <td>18185017.0</td>\n",
              "      <td>YOUTUBE SENT ME A MYSTERY GIFT!!!</td>\n",
              "      <td>dantdm|dantdm youtube|youtube dantdm|dantdm re...</td>\n",
              "      <td>► Subscribe and join TeamTDM! :: http://bit.ly...</td>\n",
              "      <td>2.0</td>\n",
              "      <td>12.0</td>\n",
              "      <td>6.0</td>\n",
              "      <td>139645.0</td>\n",
              "      <td>True</td>\n",
              "      <td>True</td>\n",
              "      <td>9293.0</td>\n",
              "      <td>1065.0</td>\n",
              "      <td>True</td>\n",
              "      <td>4047885.0</td>\n",
              "    </tr>\n",
              "    <tr>\n",
              "      <th>2339</th>\n",
              "      <td>NEJ22YCS36</td>\n",
              "      <td>24.0</td>\n",
              "      <td>Daz Games</td>\n",
              "      <td>1891854.0</td>\n",
              "      <td>Daz Watches Worst Kickstarters #9</td>\n",
              "      <td>Daz|games|worst kickstarters|daz watches|daz g...</td>\n",
              "      <td>Back again with kickstarters! \\n\\nHead over to...</td>\n",
              "      <td>11.0</td>\n",
              "      <td>14.0</td>\n",
              "      <td>1.0</td>\n",
              "      <td>114280.0</td>\n",
              "      <td>True</td>\n",
              "      <td>True</td>\n",
              "      <td>17458.0</td>\n",
              "      <td>10633.0</td>\n",
              "      <td>False</td>\n",
              "      <td>0.0</td>\n",
              "    </tr>\n",
              "  </tbody>\n",
              "</table>\n",
              "<p>2340 rows × 17 columns</p>\n",
              "</div>\n",
              "      <button class=\"colab-df-convert\" onclick=\"convertToInteractive('df-4711335a-c3e0-4412-8081-2541bac445ad')\"\n",
              "              title=\"Convert this dataframe to an interactive table.\"\n",
              "              style=\"display:none;\">\n",
              "        \n",
              "  <svg xmlns=\"http://www.w3.org/2000/svg\" height=\"24px\"viewBox=\"0 0 24 24\"\n",
              "       width=\"24px\">\n",
              "    <path d=\"M0 0h24v24H0V0z\" fill=\"none\"/>\n",
              "    <path d=\"M18.56 5.44l.94 2.06.94-2.06 2.06-.94-2.06-.94-.94-2.06-.94 2.06-2.06.94zm-11 1L8.5 8.5l.94-2.06 2.06-.94-2.06-.94L8.5 2.5l-.94 2.06-2.06.94zm10 10l.94 2.06.94-2.06 2.06-.94-2.06-.94-.94-2.06-.94 2.06-2.06.94z\"/><path d=\"M17.41 7.96l-1.37-1.37c-.4-.4-.92-.59-1.43-.59-.52 0-1.04.2-1.43.59L10.3 9.45l-7.72 7.72c-.78.78-.78 2.05 0 2.83L4 21.41c.39.39.9.59 1.41.59.51 0 1.02-.2 1.41-.59l7.78-7.78 2.81-2.81c.8-.78.8-2.07 0-2.86zM5.41 20L4 18.59l7.72-7.72 1.47 1.35L5.41 20z\"/>\n",
              "  </svg>\n",
              "      </button>\n",
              "      \n",
              "  <style>\n",
              "    .colab-df-container {\n",
              "      display:flex;\n",
              "      flex-wrap:wrap;\n",
              "      gap: 12px;\n",
              "    }\n",
              "\n",
              "    .colab-df-convert {\n",
              "      background-color: #E8F0FE;\n",
              "      border: none;\n",
              "      border-radius: 50%;\n",
              "      cursor: pointer;\n",
              "      display: none;\n",
              "      fill: #1967D2;\n",
              "      height: 32px;\n",
              "      padding: 0 0 0 0;\n",
              "      width: 32px;\n",
              "    }\n",
              "\n",
              "    .colab-df-convert:hover {\n",
              "      background-color: #E2EBFA;\n",
              "      box-shadow: 0px 1px 2px rgba(60, 64, 67, 0.3), 0px 1px 3px 1px rgba(60, 64, 67, 0.15);\n",
              "      fill: #174EA6;\n",
              "    }\n",
              "\n",
              "    [theme=dark] .colab-df-convert {\n",
              "      background-color: #3B4455;\n",
              "      fill: #D2E3FC;\n",
              "    }\n",
              "\n",
              "    [theme=dark] .colab-df-convert:hover {\n",
              "      background-color: #434B5C;\n",
              "      box-shadow: 0px 1px 3px 1px rgba(0, 0, 0, 0.15);\n",
              "      filter: drop-shadow(0px 1px 2px rgba(0, 0, 0, 0.3));\n",
              "      fill: #FFFFFF;\n",
              "    }\n",
              "  </style>\n",
              "\n",
              "      <script>\n",
              "        const buttonEl =\n",
              "          document.querySelector('#df-4711335a-c3e0-4412-8081-2541bac445ad button.colab-df-convert');\n",
              "        buttonEl.style.display =\n",
              "          google.colab.kernel.accessAllowed ? 'block' : 'none';\n",
              "\n",
              "        async function convertToInteractive(key) {\n",
              "          const element = document.querySelector('#df-4711335a-c3e0-4412-8081-2541bac445ad');\n",
              "          const dataTable =\n",
              "            await google.colab.kernel.invokeFunction('convertToInteractive',\n",
              "                                                     [key], {});\n",
              "          if (!dataTable) return;\n",
              "\n",
              "          const docLinkHtml = 'Like what you see? Visit the ' +\n",
              "            '<a target=\"_blank\" href=https://colab.research.google.com/notebooks/data_table.ipynb>data table notebook</a>'\n",
              "            + ' to learn more about interactive tables.';\n",
              "          element.innerHTML = '';\n",
              "          dataTable['output_type'] = 'display_data';\n",
              "          await google.colab.output.renderOutput(dataTable, element);\n",
              "          const docLink = document.createElement('div');\n",
              "          docLink.innerHTML = docLinkHtml;\n",
              "          element.appendChild(docLink);\n",
              "        }\n",
              "      </script>\n",
              "    </div>\n",
              "  </div>\n",
              "  "
            ]
          },
          "metadata": {},
          "execution_count": 24
        }
      ]
    },
    {
      "cell_type": "code",
      "source": [
        "df2.info()"
      ],
      "metadata": {
        "colab": {
          "base_uri": "https://localhost:8080/"
        },
        "id": "m6qzWzPRFWyb",
        "outputId": "8987ec43-5a71-4280-b262-7e36122dd2b9"
      },
      "execution_count": 25,
      "outputs": [
        {
          "output_type": "stream",
          "name": "stdout",
          "text": [
            "<class 'pandas.core.frame.DataFrame'>\n",
            "RangeIndex: 2340 entries, 0 to 2339\n",
            "Data columns (total 17 columns):\n",
            " #   Column                 Non-Null Count  Dtype  \n",
            "---  ------                 --------------  -----  \n",
            " 0   Video_id               2340 non-null   object \n",
            " 1   category_id            2340 non-null   float64\n",
            " 2   channel_title          2340 non-null   object \n",
            " 3   subscriber             2340 non-null   float64\n",
            " 4   title                  2340 non-null   object \n",
            " 5   tags                   2340 non-null   object \n",
            " 6   description            2340 non-null   object \n",
            " 7   Trend_day_count        2340 non-null   float64\n",
            " 8   Tag_count              2340 non-null   float64\n",
            " 9   Trend_tag_count        2340 non-null   float64\n",
            " 10  comment_count          2340 non-null   float64\n",
            " 11  comment_disabled       2340 non-null   bool   \n",
            " 12  like dislike disabled  2340 non-null   bool   \n",
            " 13  likes                  2340 non-null   float64\n",
            " 14  dislike                2340 non-null   float64\n",
            " 15  tag appered in title   2340 non-null   bool   \n",
            " 16  views                  2340 non-null   float64\n",
            "dtypes: bool(3), float64(9), object(5)\n",
            "memory usage: 262.9+ KB\n"
          ]
        }
      ]
    },
    {
      "cell_type": "markdown",
      "source": [
        "**visualization**"
      ],
      "metadata": {
        "id": "e_8X4_za0-JT"
      }
    },
    {
      "cell_type": "code",
      "source": [
        "sns.boxplot(df2['subscriber'])"
      ],
      "metadata": {
        "colab": {
          "base_uri": "https://localhost:8080/",
          "height": 352
        },
        "id": "qaLf-4_G0hAh",
        "outputId": "263bcc31-0f2a-48a5-cf4d-8f22cf9d8224"
      },
      "execution_count": 26,
      "outputs": [
        {
          "output_type": "stream",
          "name": "stderr",
          "text": [
            "/usr/local/lib/python3.9/dist-packages/seaborn/_decorators.py:36: FutureWarning: Pass the following variable as a keyword arg: x. From version 0.12, the only valid positional argument will be `data`, and passing other arguments without an explicit keyword will result in an error or misinterpretation.\n",
            "  warnings.warn(\n"
          ]
        },
        {
          "output_type": "execute_result",
          "data": {
            "text/plain": [
              "<AxesSubplot:xlabel='subscriber'>"
            ]
          },
          "metadata": {},
          "execution_count": 26
        },
        {
          "output_type": "display_data",
          "data": {
            "text/plain": [
              "<Figure size 432x288 with 1 Axes>"
            ],
            "image/png": "[encoded data removed]"
          },
          "metadata": {
            "needs_background": "light"
          }
        }
      ]
    },
    {
      "cell_type": "code",
      "source": [
        "sns.distplot(df2['dislike'])"
      ],
      "metadata": {
        "colab": {
          "base_uri": "https://localhost:8080/",
          "height": 352
        },
        "id": "4vUJIRQ22d8G",
        "outputId": "41a7b3a1-528f-4bd2-90ac-a15c60888960"
      },
      "execution_count": 27,
      "outputs": [
        {
          "output_type": "stream",
          "name": "stderr",
          "text": [
            "/usr/local/lib/python3.9/dist-packages/seaborn/distributions.py:2619: FutureWarning: `distplot` is a deprecated function and will be removed in a future version. Please adapt your code to use either `displot` (a figure-level function with similar flexibility) or `histplot` (an axes-level function for histograms).\n",
            "  warnings.warn(msg, FutureWarning)\n"
          ]
        },
        {
          "output_type": "execute_result",
          "data": {
            "text/plain": [
              "<AxesSubplot:xlabel='dislike', ylabel='Density'>"
            ]
          },
          "metadata": {},
          "execution_count": 27
        },
        {
          "output_type": "display_data",
          "data": {
            "text/plain": [
              "<Figure size 432x288 with 1 Axes>"
            ],
            "image/png": "[encoded data removed]"
          },
          "metadata": {
            "needs_background": "light"
          }
        }
      ]
    },
    {
      "cell_type": "code",
      "source": [
        "sns.boxplot(df2['likes'])"
      ],
      "metadata": {
        "colab": {
          "base_uri": "https://localhost:8080/",
          "height": 352
        },
        "id": "0KYJK1in29mo",
        "outputId": "a8f4e7e9-8ba6-4e6b-8166-857a0b98d3d7"
      },
      "execution_count": 28,
      "outputs": [
        {
          "output_type": "stream",
          "name": "stderr",
          "text": [
            "/usr/local/lib/python3.9/dist-packages/seaborn/_decorators.py:36: FutureWarning: Pass the following variable as a keyword arg: x. From version 0.12, the only valid positional argument will be `data`, and passing other arguments without an explicit keyword will result in an error or misinterpretation.\n",
            "  warnings.warn(\n"
          ]
        },
        {
          "output_type": "execute_result",
          "data": {
            "text/plain": [
              "<AxesSubplot:xlabel='likes'>"
            ]
          },
          "metadata": {},
          "execution_count": 28
        },
        {
          "output_type": "display_data",
          "data": {
            "text/plain": [
              "<Figure size 432x288 with 1 Axes>"
            ],
            "image/png": "[encoded data removed]"
          },
          "metadata": {
            "needs_background": "light"
          }
        }
      ]
    },
    {
      "cell_type": "code",
      "source": [
        "sns.catplot(x=\"comment_count\",y=\"comment_disabled\",data=df2,kind=\"bar\",height=4)"
      ],
      "metadata": {
        "colab": {
          "base_uri": "https://localhost:8080/",
          "height": 315
        },
        "id": "Plt85nTZ6AaY",
        "outputId": "85386013-27dd-4e76-c1ad-d33efba76888"
      },
      "execution_count": 29,
      "outputs": [
        {
          "output_type": "execute_result",
          "data": {
            "text/plain": [
              "<seaborn.axisgrid.FacetGrid at 0x7f33ede2a5b0>"
            ]
          },
          "metadata": {},
          "execution_count": 29
        },
        {
          "output_type": "display_data",
          "data": {
            "text/plain": [
              "<Figure size 288x288 with 1 Axes>"
            ],
            "image/png": "[encoded data removed]"
          },
          "metadata": {
            "needs_background": "light"
          }
        }
      ]
    },
    {
      "cell_type": "code",
      "source": [
        "sns.catplot(x=\"Trend_tag_count\",y=\"Tag_count\",data=df2,kind=\"bar\",height=4)"
      ],
      "metadata": {
        "colab": {
          "base_uri": "https://localhost:8080/",
          "height": 315
        },
        "id": "GQa7gzTv8dNj",
        "outputId": "26996a76-c985-4a99-881b-8a4446b658ca"
      },
      "execution_count": 30,
      "outputs": [
        {
          "output_type": "execute_result",
          "data": {
            "text/plain": [
              "<seaborn.axisgrid.FacetGrid at 0x7f33e6343f10>"
            ]
          },
          "metadata": {},
          "execution_count": 30
        },
        {
          "output_type": "display_data",
          "data": {
            "text/plain": [
              "<Figure size 288x288 with 1 Axes>"
            ],
            "image/png": "[encoded data removed]"
          },
          "metadata": {
            "needs_background": "light"
          }
        }
      ]
    },
    {
      "cell_type": "code",
      "source": [
        "sns.barplot(x= df2['Video_id'].head(), y= df2['Trend_day_count'].head())\n",
        "sns.lineplot(x= df2['Video_id'].head(), y= df2['Trend_day_count'].head())"
      ],
      "metadata": {
        "colab": {
          "base_uri": "https://localhost:8080/",
          "height": 298
        },
        "id": "ZaNsgyTq7Yt-",
        "outputId": "dd721300-a270-47f0-dd8a-35c6dc8ba96b"
      },
      "execution_count": 31,
      "outputs": [
        {
          "output_type": "execute_result",
          "data": {
            "text/plain": [
              "<AxesSubplot:xlabel='Video_id', ylabel='Trend_day_count'>"
            ]
          },
          "metadata": {},
          "execution_count": 31
        },
        {
          "output_type": "display_data",
          "data": {
            "text/plain": [
              "<Figure size 432x288 with 1 Axes>"
            ],
            "image/png": "[encoded data removed]"
          },
          "metadata": {
            "needs_background": "light"
          }
        }
      ]
    },
    {
      "cell_type": "code",
      "source": [
        "sns.countplot(x ='like dislike disabled', data=df2)"
      ],
      "metadata": {
        "colab": {
          "base_uri": "https://localhost:8080/",
          "height": 297
        },
        "id": "0VrzcVLpNezM",
        "outputId": "a6a96e6b-e447-4879-c186-d0e223d05037"
      },
      "execution_count": 32,
      "outputs": [
        {
          "output_type": "execute_result",
          "data": {
            "text/plain": [
              "<AxesSubplot:xlabel='like dislike disabled', ylabel='count'>"
            ]
          },
          "metadata": {},
          "execution_count": 32
        },
        {
          "output_type": "display_data",
          "data": {
            "text/plain": [
              "<Figure size 432x288 with 1 Axes>"
            ],
            "image/png": "[encoded data removed]"
          },
          "metadata": {
            "needs_background": "light"
          }
        }
      ]
    },
    {
      "cell_type": "code",
      "source": [
        "sns.countplot(x ='comment_disabled', data=df2)"
      ],
      "metadata": {
        "colab": {
          "base_uri": "https://localhost:8080/",
          "height": 298
        },
        "id": "FkyOZbtpSlDx",
        "outputId": "ebf66f7a-4c5a-4509-e63c-b8af05932f19"
      },
      "execution_count": 33,
      "outputs": [
        {
          "output_type": "execute_result",
          "data": {
            "text/plain": [
              "<AxesSubplot:xlabel='comment_disabled', ylabel='count'>"
            ]
          },
          "metadata": {},
          "execution_count": 33
        },
        {
          "output_type": "display_data",
          "data": {
            "text/plain": [
              "<Figure size 432x288 with 1 Axes>"
            ],
            "image/png": "[encoded data removed]"
          },
          "metadata": {
            "needs_background": "light"
          }
        }
      ]
    },
    {
      "cell_type": "code",
      "source": [
        "sns.countplot(x ='tag appered in title', data=df2)"
      ],
      "metadata": {
        "colab": {
          "base_uri": "https://localhost:8080/",
          "height": 299
        },
        "id": "X12ufeD6TGaz",
        "outputId": "6bc43c5e-6520-4823-bc76-91aae4d21e6b"
      },
      "execution_count": 34,
      "outputs": [
        {
          "output_type": "execute_result",
          "data": {
            "text/plain": [
              "<AxesSubplot:xlabel='tag appered in title', ylabel='count'>"
            ]
          },
          "metadata": {},
          "execution_count": 34
        },
        {
          "output_type": "display_data",
          "data": {
            "text/plain": [
              "<Figure size 432x288 with 1 Axes>"
            ],
            "image/png": "[encoded data removed]"
          },
          "metadata": {
            "needs_background": "light"
          }
        }
      ]
    },
    {
      "cell_type": "code",
      "source": [],
      "metadata": {
        "id": "nkbDV78aTsdQ"
      },
      "execution_count": 34,
      "outputs": []
    },
    {
      "cell_type": "markdown",
      "source": [
        "**VIOLIN PLOT**"
      ],
      "metadata": {
        "id": "6WKXNROiUNln"
      }
    },
    {
      "cell_type": "code",
      "source": [
        "sns.violinplot(df2.Trend_day_count,df2.Trend_tag_count)"
      ],
      "metadata": {
        "colab": {
          "base_uri": "https://localhost:8080/",
          "height": 353
        },
        "id": "GXDoxqkvRha3",
        "outputId": "4fc67afb-d89e-4398-c980-981d5e4f0c57"
      },
      "execution_count": 35,
      "outputs": [
        {
          "output_type": "stream",
          "name": "stderr",
          "text": [
            "/usr/local/lib/python3.9/dist-packages/seaborn/_decorators.py:36: FutureWarning: Pass the following variables as keyword args: x, y. From version 0.12, the only valid positional argument will be `data`, and passing other arguments without an explicit keyword will result in an error or misinterpretation.\n",
            "  warnings.warn(\n"
          ]
        },
        {
          "output_type": "execute_result",
          "data": {
            "text/plain": [
              "<AxesSubplot:xlabel='Trend_day_count', ylabel='Trend_tag_count'>"
            ]
          },
          "metadata": {},
          "execution_count": 35
        },
        {
          "output_type": "display_data",
          "data": {
            "text/plain": [
              "<Figure size 432x288 with 1 Axes>"
            ],
            "image/png": "[encoded data removed]"
          },
          "metadata": {
            "needs_background": "light"
          }
        }
      ]
    },
    {
      "cell_type": "markdown",
      "source": [
        "**REGRESSION PLOT**"
      ],
      "metadata": {
        "id": "2ltPI3Y5UJxh"
      }
    },
    {
      "cell_type": "code",
      "source": [
        "sns.regplot(x = df2.Trend_day_count, y = df2.Trend_tag_count)"
      ],
      "metadata": {
        "colab": {
          "base_uri": "https://localhost:8080/",
          "height": 298
        },
        "id": "Zc9tan-QS6A3",
        "outputId": "9cf54da8-4e8d-4f07-fd2f-54ea1762ac0b"
      },
      "execution_count": 36,
      "outputs": [
        {
          "output_type": "execute_result",
          "data": {
            "text/plain": [
              "<AxesSubplot:xlabel='Trend_day_count', ylabel='Trend_tag_count'>"
            ]
          },
          "metadata": {},
          "execution_count": 36
        },
        {
          "output_type": "display_data",
          "data": {
            "text/plain": [
              "<Figure size 432x288 with 1 Axes>"
            ],
            "image/png": "[encoded data removed]"
          },
          "metadata": {
            "needs_background": "light"
          }
        }
      ]
    },
    {
      "cell_type": "markdown",
      "source": [
        "**HEAT MAP**"
      ],
      "metadata": {
        "id": "5BkhmfVGUGj9"
      }
    },
    {
      "cell_type": "code",
      "source": [
        "sns.heatmap(data = df2.corr(), annot = True, linewidth=0.5,cmap = 'Blues', cbar = True,vmin=-1, vmax=1)"
      ],
      "metadata": {
        "colab": {
          "base_uri": "https://localhost:8080/",
          "height": 375
        },
        "id": "P9V7XZXiTUHI",
        "outputId": "745bc701-c5eb-4240-8c31-7d8db3be1e41"
      },
      "execution_count": 37,
      "outputs": [
        {
          "output_type": "execute_result",
          "data": {
            "text/plain": [
              "<AxesSubplot:>"
            ]
          },
          "metadata": {},
          "execution_count": 37
        },
        {
          "output_type": "display_data",
          "data": {
            "text/plain": [
              "<Figure size 432x288 with 2 Axes>"
            ],
            "image/png": "[encoded data removed]"
          },
          "metadata": {
            "needs_background": "light"
          }
        }
      ]
    },
    {
      "cell_type": "code",
      "source": [
        "from textblob import TextBlob\n",
        "\n",
        "# Sample text for sentiment analysis\n",
        "text = \"I love this movie! The acting is amazing and the story is so engaging.\"\n",
        "\n",
        "# Create a TextBlob object for the text\n",
        "blob = TextBlob(text)\n",
        "\n",
        "# Get the sentiment polarity (-1 to 1)\n",
        "sentiment_polarity = blob.sentiment.polarity\n",
        "\n",
        "# Get the sentiment subjectivity (0 to 1)\n",
        "sentiment_subjectivity = blob.sentiment.subjectivity\n",
        "\n",
        "# Print the results\n",
        "print(\"Sentiment polarity:\", sentiment_polarity)\n",
        "print(\"Sentiment subjectivity:\", sentiment_subjectivity)"
      ],
      "metadata": {
        "colab": {
          "base_uri": "https://localhost:8080/"
        },
        "id": "bRKzAFWdBekr",
        "outputId": "dd1bbac9-17c8-4e20-df09-458552b77d02"
      },
      "execution_count": 38,
      "outputs": [
        {
          "output_type": "stream",
          "name": "stdout",
          "text": [
            "Sentiment polarity: 0.40625\n",
            "Sentiment subjectivity: 0.55\n"
          ]
        }
      ]
    },
    {
      "cell_type": "code",
      "source": [
        "import pandas as pd\n",
        "\n",
        "# Load the YouTube data into a DataFrame\n",
        "df = pd.read_csv('phyton.csv')\n",
        "\n",
        "# Calculate the sentiment polarity for each comment\n",
        "df['sentiment_polarity'] = df['comment_count'].apply(lambda x: TextBlob(x).sentiment.polarity)\n",
        "\n",
        "# Categorize the videos based on sentiment polarity and view count\n",
        "df['category'] = ''\n",
        "df.loc[(df['sentiment_polarity'] > 0.5) & (df['subscriber'] > 382390), 'category'] = 'Positive and Popular'\n",
        "df.loc[(df['sentiment_polarity'] > 0.5) & (df['subscriber'] <= 382390), 'category'] = 'Positive and Niche'\n",
        "df.loc[(df['sentiment_polarity'] <= 0.5) & (df['subscriber'] > 382390), 'category'] = 'Negative and Popular'\n",
        "df.loc[(df['sentiment_polarity'] <= 0.5) & (df['subscriber'] <= 382390), 'category'] = 'Negative and Niche'\n",
        "\n",
        "# Print the results\n",
        "print(df)\n"
      ],
      "metadata": {
        "colab": {
          "base_uri": "https://localhost:8080/"
        },
        "id": "z2_AHA1YBenW",
        "outputId": "5ab8c352-648e-4eb7-91f6-9b7694473ecd"
      },
      "execution_count": 40,
      "outputs": [
        {
          "output_type": "stream",
          "name": "stdout",
          "text": [
            "        Video_id category_id          channel_title  subscriber  \\\n",
            "0      HDR9SQc79          22           CaseyNeistat   9086142.0   \n",
            "1     KNH52UF?48          24        LastWeekTonight   5937292.0   \n",
            "2     QTW28IRG36          23           Rudy Mancuso   4191209.0   \n",
            "3     MGL76WI]26          24  Good Mythical Morning  13186408.0   \n",
            "4     TWP93KXT70          24               nigahiga  20563106.0   \n",
            "...          ...         ...                    ...         ...   \n",
            "3193  OKR48DOE67          20         EA SPORTS FIFA   3150213.0   \n",
            "3194  QJK69DS?91          10          JackWhiteVEVO    261596.0   \n",
            "3195  VHF51NVr11          10         JamesBlakeVEVO     28321.0   \n",
            "3196  XHU22OAJ39          26             Refinery29    890739.0   \n",
            "3197  IFD79NSG47          22                MN khan         0.0   \n",
            "\n",
            "                                                  title  \\\n",
            "0                    WE WANT TO TALK ABOUT OUR MARRIAGE   \n",
            "1     The Trump Presidency: Last Week Tonight with J...   \n",
            "2     Racist Superman | Rudy Mancuso, King Bach & Le...   \n",
            "3                      Nickelback Lyrics: Real or Fake?   \n",
            "4                              I Dare You: GOING BALD!?   \n",
            "...                                                 ...   \n",
            "3193      FIFA 18 - FUT Champions Cup Barcelona - Day 1   \n",
            "3194                   Jack White - Corporation (Audio)   \n",
            "3195  James Blake - If The Car Beside You Moves Ahea...   \n",
            "3196  Lucie Fink Trains Like A Professional Gymnast ...   \n",
            "3197  Man drops magnum of Champagne on the floor in ...   \n",
            "\n",
            "                                                   tags  \\\n",
            "0                                       SHANtell martin   \n",
            "1     last week tonight trump presidency|last week t...   \n",
            "2     racist superman|rudy|mancuso|king|bach|racist|...   \n",
            "3     rhett and link|gmm|good mythical morning|rhett...   \n",
            "4     ryan|higa|higatv|nigahiga|i dare you|idy|rhpc|...   \n",
            "...                                                 ...   \n",
            "3193  fifa|fifa ultimate team|fut|fifa pack opening|...   \n",
            "3194  Alternative|Corporation|Jack White|Third Man R...   \n",
            "3195  James|Blake|If|The|Car|Beside|You|Moves|Ahead|...   \n",
            "3196  refinery29|refinery 29|r29|r29 video|refinery2...   \n",
            "3197                                                NaN   \n",
            "\n",
            "                                            description  Trend_day_count  \\\n",
            "0     SHANTELL'S CHANNEL - https://www.youtube.com/s...              6.0   \n",
            "1     One year after the presidential election, John...              1.0   \n",
            "2     WATCH MY PREVIOUS VIDEO ▶ \\n\\nSUBSCRIBE ► http...             10.0   \n",
            "3     Today we find out if Link is a Nickelback amat...             12.0   \n",
            "4     I know it's been a while since we did this sho...             11.0   \n",
            "...                                                 ...              ...   \n",
            "3193  Day 1 of the FUT Champions Cup Barcelona featu...              7.0   \n",
            "3194  “Corporation” by Jack White from the forthcomi...              7.0   \n",
            "3195  If the car beside you moves ahead \\nAs much as...             11.0   \n",
            "3196  On this episode of Lucie For Hire, our host Lu...             11.0   \n",
            "3197  Man spills magnum of champagne ‘worth £30,000’...             12.0   \n",
            "\n",
            "     Tag_count Trend_tag_count  ... comment_disabled like dislike disabled  \\\n",
            "0           21               6  ...            FALSE                 FALSE   \n",
            "1           23               1  ...             TRUE                 FALSE   \n",
            "2           22               3  ...             TRUE                  TRUE   \n",
            "3           17               5  ...             TRUE                  TRUE   \n",
            "4           15               7  ...             TRUE                  TRUE   \n",
            "...        ...             ...  ...              ...                   ...   \n",
            "3193        20               5  ...            FALSE                 FALSE   \n",
            "3194         8               6  ...            FALSE                 FALSE   \n",
            "3195        15               4  ...            FALSE                  TRUE   \n",
            "3196        14               6  ...             TRUE                 FALSE   \n",
            "3197        12               4  ...             TRUE                 FALSE   \n",
            "\n",
            "      likes dislike tag appered in title    views Unnamed: 17  Unnamed: 18  \\\n",
            "0     13342    6089                False  1978978         NaN          NaN   \n",
            "1      5761    3044                False  1487870         NaN          NaN   \n",
            "2         0       0                 True  1502102         NaN          NaN   \n",
            "3         0       0                 True  3519302         NaN          NaN   \n",
            "4         0       0                 True  4835374         NaN          NaN   \n",
            "...     ...     ...                  ...      ...         ...          ...   \n",
            "3193   9734    5912                False   747960         NaN          NaN   \n",
            "3194  16006   12019                 True   200410         NaN          NaN   \n",
            "3195      0       0                 True   244022         NaN          NaN   \n",
            "3196   6859    1247                 True   907340         NaN          NaN   \n",
            "3197   8339    5436                 True   465531         NaN          NaN   \n",
            "\n",
            "     sentiment_polarity              category  \n",
            "0                   0.0  Negative and Popular  \n",
            "1                   0.0  Negative and Popular  \n",
            "2                   0.0  Negative and Popular  \n",
            "3                   0.0  Negative and Popular  \n",
            "4                   0.0  Negative and Popular  \n",
            "...                 ...                   ...  \n",
            "3193                0.0  Negative and Popular  \n",
            "3194                0.0    Negative and Niche  \n",
            "3195                0.0    Negative and Niche  \n",
            "3196                0.0  Negative and Popular  \n",
            "3197                0.0    Negative and Niche  \n",
            "\n",
            "[3198 rows x 21 columns]\n"
          ]
        }
      ]
    },
    {
      "cell_type": "code",
      "source": [
        "df2['sentiment_polarity'] = df['comment_count'].apply(lambda x: TextBlob(x).sentiment.polarity)\n",
        "\n",
        "# Categorize the videos based on sentiment polarity and view count\n",
        "\n",
        "df2['category'] = ''\n",
        "df2.loc[(df2['sentiment_polarity'] > 0.5) & (df2['Trend_tag_count'] > 5), 'category'] = 'Positive and Popular'\n",
        "df2.loc[(df2['sentiment_polarity'] > 0.5) & (df2['Trend_tag_count'] <= 5), 'category'] = 'Positive and Niche'\n",
        "df2.loc[(df2['sentiment_polarity'] <= 0.5) & (df2['Trend_tag_count'] > 5), 'category'] = 'Negative and Popular'\n",
        "df2.loc[(df2['sentiment_polarity'] <= 0.5) & (df2['Trend_tag_count'] <= 5), 'category'] = 'Negative and Niche'\n",
        "\n",
        "# Print the results\n",
        "print(df2)\n"
      ],
      "metadata": {
        "colab": {
          "base_uri": "https://localhost:8080/"
        },
        "id": "kD5TBMcwH2Mg",
        "outputId": "522f2a27-bd2e-491e-f6ee-e4b0c931d301"
      },
      "execution_count": 51,
      "outputs": [
        {
          "output_type": "stream",
          "name": "stdout",
          "text": [
            "        Video_id  category_id          channel_title  subscriber  \\\n",
            "0      HDR9SQc79         22.0           CaseyNeistat   9086142.0   \n",
            "1     KNH52UF?48         24.0        LastWeekTonight   5937292.0   \n",
            "2     QTW28IRG36         23.0           Rudy Mancuso   4191209.0   \n",
            "3     MGL76WI]26         24.0  Good Mythical Morning  13186408.0   \n",
            "4     TWP93KXT70         24.0               nigahiga  20563106.0   \n",
            "...          ...          ...                    ...         ...   \n",
            "2335  UFM79JA=97         24.0               Billions     26248.0   \n",
            "2336  FMU22HOJ55         17.0                   ESPN   2702088.0   \n",
            "2337  FLP46QR>14         25.0                    Vox   3808198.0   \n",
            "2338  YYZ82HE\\69         20.0                 DanTDM  18185017.0   \n",
            "2339  NEJ22YCS36         24.0              Daz Games   1891854.0   \n",
            "\n",
            "                                                  title  \\\n",
            "0                    WE WANT TO TALK ABOUT OUR MARRIAGE   \n",
            "1     The Trump Presidency: Last Week Tonight with J...   \n",
            "2     Racist Superman | Rudy Mancuso, King Bach & Le...   \n",
            "3                      Nickelback Lyrics: Real or Fake?   \n",
            "4                              I Dare You: GOING BALD!?   \n",
            "...                                                 ...   \n",
            "2335  Billions Season 3 (2018) | Official Trailer | ...   \n",
            "2336  LaVar Ball gets real during interview with ESP...   \n",
            "2337    Iran's massive protests, explained in 4 minutes   \n",
            "2338                  YOUTUBE SENT ME A MYSTERY GIFT!!!   \n",
            "2339                  Daz Watches Worst Kickstarters #9   \n",
            "\n",
            "                                                   tags  \\\n",
            "0                                       SHANtell martin   \n",
            "1     last week tonight trump presidency|last week t...   \n",
            "2     racist superman|rudy|mancuso|king|bach|racist|...   \n",
            "3     rhett and link|gmm|good mythical morning|rhett...   \n",
            "4     ryan|higa|higatv|nigahiga|i dare you|idy|rhpc|...   \n",
            "...                                                 ...   \n",
            "2335  Trader|US Attorney|Susan Misner|Malin Akerman|...   \n",
            "2336  lavar|ball|gets|real|during|interview|with|esp...   \n",
            "2337  vox.com|vox|explain|iran|iran protests|iranian...   \n",
            "2338  dantdm|dantdm youtube|youtube dantdm|dantdm re...   \n",
            "2339  Daz|games|worst kickstarters|daz watches|daz g...   \n",
            "\n",
            "                                            description  Trend_day_count  \\\n",
            "0     SHANTELL'S CHANNEL - https://www.youtube.com/s...              6.0   \n",
            "1     One year after the presidential election, John...              1.0   \n",
            "2     WATCH MY PREVIOUS VIDEO ▶ \\n\\nSUBSCRIBE ► http...             10.0   \n",
            "3     Today we find out if Link is a Nickelback amat...             12.0   \n",
            "4     I know it's been a while since we did this sho...             11.0   \n",
            "...                                                 ...              ...   \n",
            "2335  Season three of Billions finds Chuck Rhoades (...              8.0   \n",
            "2336  LaVar Ball gets real during interview with ESP...              5.0   \n",
            "2337  How the price of eggs sparked an uprising in I...              1.0   \n",
            "2338  ► Subscribe and join TeamTDM! :: http://bit.ly...              2.0   \n",
            "2339  Back again with kickstarters! \\n\\nHead over to...             11.0   \n",
            "\n",
            "      Tag_count  Trend_tag_count  comment_count  comment_disabled  \\\n",
            "0          21.0                6            0.0              True   \n",
            "1          23.0                1       116266.0              True   \n",
            "2          22.0                3       257850.0              True   \n",
            "3          17.0                5       263939.0              True   \n",
            "4          15.0                7       268085.0              True   \n",
            "...         ...              ...            ...               ...   \n",
            "2335       18.0                4       272277.0              True   \n",
            "2336       18.0                1            0.0              True   \n",
            "2337       11.0                6       258219.0              True   \n",
            "2338       12.0                6       139645.0              True   \n",
            "2339       14.0                1       114280.0              True   \n",
            "\n",
            "      like dislike disabled    likes  dislike  tag appered in title  \\\n",
            "0                      True  13342.0   6089.0                 False   \n",
            "1                      True   5761.0   3044.0                 False   \n",
            "2                      True      0.0      0.0                  True   \n",
            "3                      True      0.0      0.0                  True   \n",
            "4                      True      0.0      0.0                  True   \n",
            "...                     ...      ...      ...                   ...   \n",
            "2335                   True  16364.0  11887.0                 False   \n",
            "2336                   True   9308.0   7459.0                  True   \n",
            "2337                   True  14820.0  11934.0                  True   \n",
            "2338                   True   9293.0   1065.0                  True   \n",
            "2339                   True  17458.0  10633.0                 False   \n",
            "\n",
            "          views  sentiment_polarity              category  \n",
            "0     1978978.0                 0.0  Negative and Popular  \n",
            "1     1487870.0                 0.0    Negative and Niche  \n",
            "2     1502102.0                 0.0    Negative and Niche  \n",
            "3     3519302.0                 0.0    Negative and Niche  \n",
            "4     4835374.0                 0.0  Negative and Popular  \n",
            "...         ...                 ...                   ...  \n",
            "2335   774140.0                 0.0    Negative and Niche  \n",
            "2336   694588.0                 0.0    Negative and Niche  \n",
            "2337  1400211.0                 0.0  Negative and Popular  \n",
            "2338  4047885.0                 0.0  Negative and Popular  \n",
            "2339        0.0                 0.0    Negative and Niche  \n",
            "\n",
            "[2340 rows x 19 columns]\n"
          ]
        }
      ]
    }
  ]
}