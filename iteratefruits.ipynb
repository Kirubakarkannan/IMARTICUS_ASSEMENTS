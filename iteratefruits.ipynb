{
 "cells": [
  {
   "cell_type": "code",
   "execution_count": 34,
   "id": "a2620b79",
   "metadata": {},
   "outputs": [],
   "source": [
    "fruits=[\"Apple\",\"Banana\",\"Apricot\",\"Atemoya\",\"Avocados\",\"Blueberry\",\"Blackcurrant\",\"Ackee\",\"Cranberry\",\"Cantaloupe\",\"Cherry\",\"Black sapote\",\"Chocolate pudding fruit\",\"Dragonrfruit\",\"Dates\",\"Cherimoya\",\"Buddha’s hand fruit\",\"Finger Lime\",\"Fig\",\"Coconut\",\"Cape gooseberry\",\"Inca berry\",\"Physalis\",\"Grapefruit\",\"Gooseberries\",\"Custard apple\",\"Sugar apple\",\"Sweetsop\",\"Chempedak\",\"Hazelnut\",\"Honeyberries\",\"Dragon fruit\",\"Durian\",\"Horned Melon\",\"Hog Plum\",\"Egg fruit\",\"Feijoa\",\"Pineapple guava\",\"Guavasteen\",\"Indian Fig\",\"Ice Apple\",\"Guava\",\"Fuyu Persimmon\",\"Jackfruit\",\"Jujube\",\"Honeydew melon\",\"Jenipapo\",\"Kiwi\",\"Kabosu\",\"Kiwano\",\"Kaffir lime\",\"Makrut Lime\",\"Lime\",\"Lychee\",\"Longan\",\"Langsat\",\"Mango\",\"Mulberry\",\"Pear\",\"Lucuma\",\"Muskmelon\",\"Naranjilla\",\"Passion fruit\",\"Mangosteen\",\"Nectarine\",\"Nance\",\"Quince\",\"Medlar fruit\",\"Olive\",\"Oranges\",\"Ramphal\",\"Mouse melon\",\"Papaya\",\"Peach\",\"Rose apple\",\"Water apple\",\"Noni fruit\",\"Pomegranate\",\"Pineapple\",\"Rambutan\",\"Snake fruit\",\"Salak\",\"Raspberries\",\"Strawberries\",\"Starfruit\",\"Carambola\",\"Soursop\",\"Tangerine\",\"Olive\",\"Oranges\",\"Ramphal\",\"Mouse melon\",\"Papaya\",\"Peach\",\"Rose apple\",\"Water apple\",\"Noni fruit\",\"Watermelon\",\"Sapota\",\"Star apple\"]"
   ]
  },
  {
   "cell_type": "code",
   "execution_count": 35,
   "id": "824a3ab5",
   "metadata": {},
   "outputs": [
    {
     "data": {
      "text/plain": [
       "100"
      ]
     },
     "execution_count": 35,
     "metadata": {},
     "output_type": "execute_result"
    }
   ],
   "source": [
    "type(fruits)\n",
    "fruits.sort()\n",
    "len(fruits)\n"
   ]
  },
  {
   "cell_type": "code",
   "execution_count": 78,
   "id": "961ea9b8",
   "metadata": {},
   "outputs": [
    {
     "name": "stdout",
     "output_type": "stream",
     "text": [
      "Ackee\n",
      "Apple\n",
      "Apricot\n",
      "Atemoya\n",
      "Avocados\n",
      "Banana\n",
      "Black sapote\n",
      "Blackcurrant\n",
      "Blueberry\n",
      "Buddha’s hand fruit\n",
      "Cantaloupe\n",
      "Cape gooseberry\n",
      "Carambola\n",
      "Chempedak\n",
      "Cherimoya\n",
      "Cherry\n",
      "Chocolate pudding fruit\n",
      "Coconut\n",
      "Cranberry\n",
      "Custard apple\n",
      "Dates\n",
      "Dragon fruit\n",
      "Dragonrfruit\n",
      "Durian\n",
      "Egg fruit\n",
      "Feijoa\n",
      "Fig\n",
      "Finger Lime\n",
      "Fuyu Persimmon\n",
      "Gooseberries\n",
      "Grapefruit\n",
      "Guava\n",
      "Guavasteen\n",
      "Hazelnut\n",
      "Hog Plum\n",
      "Honeyberries\n",
      "Honeydew melon\n",
      "Horned Melon\n",
      "Ice Apple\n",
      "Inca berry\n",
      "Indian Fig\n",
      "Jackfruit\n",
      "Jenipapo\n",
      "Jujube\n",
      "Kabosu\n",
      "Kaffir lime\n",
      "Kiwano\n",
      "Kiwi\n",
      "Langsat\n",
      "Lime\n",
      "Longan\n",
      "Lucuma\n",
      "Lychee\n",
      "Makrut Lime\n",
      "Mango\n",
      "Mangosteen\n",
      "Medlar fruit\n",
      "Mouse melon\n",
      "Mouse melon\n",
      "Mulberry\n",
      "Muskmelon\n",
      "Nance\n",
      "Naranjilla\n",
      "Nectarine\n",
      "Noni fruit\n",
      "Noni fruit\n",
      "Olive\n",
      "Olive\n",
      "Oranges\n",
      "Oranges\n",
      "Papaya\n",
      "Papaya\n",
      "Passion fruit\n",
      "Peach\n",
      "Peach\n",
      "Pear\n",
      "Physalis\n",
      "Pineapple\n",
      "Pineapple guava\n",
      "Pomegranate\n",
      "Quince\n",
      "Rambutan\n",
      "Ramphal\n",
      "Ramphal\n",
      "Raspberries\n",
      "Rose apple\n",
      "Rose apple\n",
      "Salak\n",
      "Sapota\n",
      "Snake fruit\n",
      "Soursop\n",
      "Star apple\n",
      "Starfruit\n",
      "Strawberries\n",
      "Sugar apple\n",
      "Sweetsop\n",
      "Tangerine\n",
      "Water apple\n",
      "Water apple\n",
      "Watermelon\n"
     ]
    }
   ],
   "source": [
    "n=int(len(fruits)-1)\n",
    "m=45\n",
    "for n in fruits:\n",
    "    {\n",
    "        print(n)\n",
    "        if (n!=m)\n",
    "        else print (\"The fruit belongs to the entered number\")\n",
    "    }\n",
    "    \n"
   ]
  },
  {
   "cell_type": "code",
   "execution_count": null,
   "id": "35f2087f",
   "metadata": {},
   "outputs": [],
   "source": []
  },
  {
   "cell_type": "code",
   "execution_count": null,
   "id": "2ec20bc2",
   "metadata": {},
   "outputs": [],
   "source": []
  }
 ],
 "metadata": {
  "kernelspec": {
   "display_name": "Python 3 (ipykernel)",
   "language": "python",
   "name": "python3"
  },
  "language_info": {
   "codemirror_mode": {
    "name": "ipython",
    "version": 3
   },
   "file_extension": ".py",
   "mimetype": "text/x-python",
   "name": "python",
   "nbconvert_exporter": "python",
   "pygments_lexer": "ipython3",
   "version": "3.9.7"
  }
 },
 "nbformat": 4,
 "nbformat_minor": 5
}
